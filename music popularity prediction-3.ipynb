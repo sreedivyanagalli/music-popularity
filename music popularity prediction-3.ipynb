{
 "cells": [
  {
   "cell_type": "markdown",
   "metadata": {},
   "source": [
    "<a id=\"0\"></a> <br>\n",
    "\n",
    "> ## Introduction\n",
    "- Currently, being able to predict that something might be popular beforehand is an important research subject for every industry. It also has recently became a very important subject for the growing and competitive music industry as well. Since wide use of digital music platforms (Spotify, Billboard, Lastfm), data can be easily reached and the listening behaviors of the listeners can be easily observed. This provides convenience in forecasting techniques and it is also frequently used in recommendation systems."
   ]
  },
  {
   "cell_type": "markdown",
   "metadata": {},
   "source": [
    "<a id=\"2\"></a> \n",
    "## Import Libraries"
   ]
  },
  {
   "cell_type": "code",
   "execution_count": 76,
   "metadata": {
    "_cell_guid": "b1076dfc-b9ad-4769-8c92-a6c4dae69d19",
    "_kg_hide-input": false,
    "_kg_hide-output": true,
    "_uuid": "8f2839f25d086af736a60e9eeb907d3b93b6e0e5"
   },
   "outputs": [],
   "source": [
    "# This Python 3 environment comes with many helpful analytics libraries installed\n",
    "# It is defined by the kaggle/python docker image: https://github.com/kaggle/docker-python\n",
    "# For example, here's several helpful packages to load in \n",
    "import numpy as np # linear algebra\n",
    "import pandas as pd # data processing, CSV file I/O (e.g. pd.read_csv)\n",
    "import matplotlib.pyplot as plt\n",
    "import seaborn as sns\n",
    "\n",
    "# Input data files are available in the \"../input/\" directory.\n",
    "# For example, running this (by clicking run or pressing Shift+Enter) will list all files under the input directory\n",
    "import os\n",
    "for dirname, _, filenames in os.walk('/kaggle/input'):\n",
    "    for filename in filenames:\n",
    "        print(os.path.join(dirname, filename))\n",
    "# Any results you write to the current directory are saved as output.\n",
    "import warnings\n",
    "warnings.filterwarnings(\"ignore\")"
   ]
  },
  {
   "cell_type": "markdown",
   "metadata": {},
   "source": [
    " <a id=\"3\"></a> \n",
    " ## Data Preparation and Analysis"
   ]
  },
  {
   "cell_type": "code",
   "execution_count": 77,
   "metadata": {
    "_cell_guid": "79c7e3d0-c299-4dcb-8224-4455121ee9b0",
    "_kg_hide-input": false,
    "_uuid": "d629ff2d2480ee46fbb7e2d37f6b5fab8052498a"
   },
   "outputs": [],
   "source": [
    "#load the data\n",
    "spotify_song_data= pd.read_csv(\"song_data.csv\")\n",
    "spotify_song_info= pd.read_csv(\"song_info.csv\") "
   ]
  },
  {
   "cell_type": "code",
   "execution_count": 78,
   "metadata": {},
   "outputs": [],
   "source": [
    "song_info=spotify_song_info.copy()"
   ]
  },
  {
   "cell_type": "code",
   "execution_count": 79,
   "metadata": {
    "_kg_hide-input": false
   },
   "outputs": [
    {
     "data": {
      "text/html": [
       "<div>\n",
       "<style scoped>\n",
       "    .dataframe tbody tr th:only-of-type {\n",
       "        vertical-align: middle;\n",
       "    }\n",
       "\n",
       "    .dataframe tbody tr th {\n",
       "        vertical-align: top;\n",
       "    }\n",
       "\n",
       "    .dataframe thead th {\n",
       "        text-align: right;\n",
       "    }\n",
       "</style>\n",
       "<table border=\"1\" class=\"dataframe\">\n",
       "  <thead>\n",
       "    <tr style=\"text-align: right;\">\n",
       "      <th></th>\n",
       "      <th>song_name</th>\n",
       "      <th>song_popularity</th>\n",
       "      <th>song_duration_ms</th>\n",
       "      <th>acousticness</th>\n",
       "      <th>danceability</th>\n",
       "      <th>energy</th>\n",
       "      <th>instrumentalness</th>\n",
       "      <th>key</th>\n",
       "      <th>liveness</th>\n",
       "      <th>loudness</th>\n",
       "      <th>audio_mode</th>\n",
       "      <th>speechiness</th>\n",
       "      <th>tempo</th>\n",
       "      <th>time_signature</th>\n",
       "      <th>audio_valence</th>\n",
       "    </tr>\n",
       "  </thead>\n",
       "  <tbody>\n",
       "    <tr>\n",
       "      <th>0</th>\n",
       "      <td>Boulevard of Broken Dreams</td>\n",
       "      <td>73</td>\n",
       "      <td>262333</td>\n",
       "      <td>0.00552</td>\n",
       "      <td>0.496</td>\n",
       "      <td>0.682</td>\n",
       "      <td>0.000029</td>\n",
       "      <td>8</td>\n",
       "      <td>0.0589</td>\n",
       "      <td>-4.095</td>\n",
       "      <td>1</td>\n",
       "      <td>0.0294</td>\n",
       "      <td>167.060</td>\n",
       "      <td>4</td>\n",
       "      <td>0.474</td>\n",
       "    </tr>\n",
       "    <tr>\n",
       "      <th>1</th>\n",
       "      <td>In The End</td>\n",
       "      <td>66</td>\n",
       "      <td>216933</td>\n",
       "      <td>0.01030</td>\n",
       "      <td>0.542</td>\n",
       "      <td>0.853</td>\n",
       "      <td>0.000000</td>\n",
       "      <td>3</td>\n",
       "      <td>0.1080</td>\n",
       "      <td>-6.407</td>\n",
       "      <td>0</td>\n",
       "      <td>0.0498</td>\n",
       "      <td>105.256</td>\n",
       "      <td>4</td>\n",
       "      <td>0.370</td>\n",
       "    </tr>\n",
       "    <tr>\n",
       "      <th>2</th>\n",
       "      <td>Seven Nation Army</td>\n",
       "      <td>76</td>\n",
       "      <td>231733</td>\n",
       "      <td>0.00817</td>\n",
       "      <td>0.737</td>\n",
       "      <td>0.463</td>\n",
       "      <td>0.447000</td>\n",
       "      <td>0</td>\n",
       "      <td>0.2550</td>\n",
       "      <td>-7.828</td>\n",
       "      <td>1</td>\n",
       "      <td>0.0792</td>\n",
       "      <td>123.881</td>\n",
       "      <td>4</td>\n",
       "      <td>0.324</td>\n",
       "    </tr>\n",
       "  </tbody>\n",
       "</table>\n",
       "</div>"
      ],
      "text/plain": [
       "                    song_name  song_popularity  song_duration_ms  \\\n",
       "0  Boulevard of Broken Dreams               73            262333   \n",
       "1                  In The End               66            216933   \n",
       "2           Seven Nation Army               76            231733   \n",
       "\n",
       "   acousticness  danceability  energy  instrumentalness  key  liveness  \\\n",
       "0       0.00552         0.496   0.682          0.000029    8    0.0589   \n",
       "1       0.01030         0.542   0.853          0.000000    3    0.1080   \n",
       "2       0.00817         0.737   0.463          0.447000    0    0.2550   \n",
       "\n",
       "   loudness  audio_mode  speechiness    tempo  time_signature  audio_valence  \n",
       "0    -4.095           1       0.0294  167.060               4          0.474  \n",
       "1    -6.407           0       0.0498  105.256               4          0.370  \n",
       "2    -7.828           1       0.0792  123.881               4          0.324  "
      ]
     },
     "execution_count": 79,
     "metadata": {},
     "output_type": "execute_result"
    }
   ],
   "source": [
    "song_data=spotify_song_data.copy()\n",
    "song_data.head(3)"
   ]
  },
  {
   "cell_type": "code",
   "execution_count": 80,
   "metadata": {},
   "outputs": [
    {
     "data": {
      "text/plain": [
       "(18835, 15)"
      ]
     },
     "execution_count": 80,
     "metadata": {},
     "output_type": "execute_result"
    }
   ],
   "source": [
    "song_data.shape"
   ]
  },
  {
   "cell_type": "code",
   "execution_count": 207,
   "metadata": {},
   "outputs": [
    {
     "data": {
      "text/plain": [
       "(18835, 4)"
      ]
     },
     "execution_count": 207,
     "metadata": {},
     "output_type": "execute_result"
    }
   ],
   "source": [
    "song_info.shape"
   ]
  },
  {
   "cell_type": "code",
   "execution_count": 209,
   "metadata": {},
   "outputs": [
    {
     "data": {
      "text/html": [
       "<div>\n",
       "<style scoped>\n",
       "    .dataframe tbody tr th:only-of-type {\n",
       "        vertical-align: middle;\n",
       "    }\n",
       "\n",
       "    .dataframe tbody tr th {\n",
       "        vertical-align: top;\n",
       "    }\n",
       "\n",
       "    .dataframe thead th {\n",
       "        text-align: right;\n",
       "    }\n",
       "</style>\n",
       "<table border=\"1\" class=\"dataframe\">\n",
       "  <thead>\n",
       "    <tr style=\"text-align: right;\">\n",
       "      <th></th>\n",
       "      <th>song_name</th>\n",
       "      <th>artist_name</th>\n",
       "      <th>album_names</th>\n",
       "      <th>playlist</th>\n",
       "    </tr>\n",
       "  </thead>\n",
       "  <tbody>\n",
       "    <tr>\n",
       "      <th>0</th>\n",
       "      <td>Boulevard of Broken Dreams</td>\n",
       "      <td>Green Day</td>\n",
       "      <td>Greatest Hits: God's Favorite Band</td>\n",
       "      <td>00s Rock Anthems</td>\n",
       "    </tr>\n",
       "    <tr>\n",
       "      <th>1</th>\n",
       "      <td>In The End</td>\n",
       "      <td>Linkin Park</td>\n",
       "      <td>Hybrid Theory</td>\n",
       "      <td>00s Rock Anthems</td>\n",
       "    </tr>\n",
       "    <tr>\n",
       "      <th>2</th>\n",
       "      <td>Seven Nation Army</td>\n",
       "      <td>The White Stripes</td>\n",
       "      <td>Elephant</td>\n",
       "      <td>00s Rock Anthems</td>\n",
       "    </tr>\n",
       "    <tr>\n",
       "      <th>3</th>\n",
       "      <td>By The Way</td>\n",
       "      <td>Red Hot Chili Peppers</td>\n",
       "      <td>By The Way (Deluxe Version)</td>\n",
       "      <td>00s Rock Anthems</td>\n",
       "    </tr>\n",
       "    <tr>\n",
       "      <th>4</th>\n",
       "      <td>How You Remind Me</td>\n",
       "      <td>Nickelback</td>\n",
       "      <td>Silver Side Up</td>\n",
       "      <td>00s Rock Anthems</td>\n",
       "    </tr>\n",
       "  </tbody>\n",
       "</table>\n",
       "</div>"
      ],
      "text/plain": [
       "                    song_name            artist_name  \\\n",
       "0  Boulevard of Broken Dreams              Green Day   \n",
       "1                  In The End            Linkin Park   \n",
       "2           Seven Nation Army      The White Stripes   \n",
       "3                  By The Way  Red Hot Chili Peppers   \n",
       "4           How You Remind Me             Nickelback   \n",
       "\n",
       "                          album_names          playlist  \n",
       "0  Greatest Hits: God's Favorite Band  00s Rock Anthems  \n",
       "1                       Hybrid Theory  00s Rock Anthems  \n",
       "2                            Elephant  00s Rock Anthems  \n",
       "3         By The Way (Deluxe Version)  00s Rock Anthems  \n",
       "4                      Silver Side Up  00s Rock Anthems  "
      ]
     },
     "execution_count": 209,
     "metadata": {},
     "output_type": "execute_result"
    }
   ],
   "source": [
    "song_info.head()"
   ]
  },
  {
   "cell_type": "code",
   "execution_count": 210,
   "metadata": {},
   "outputs": [
    {
     "data": {
      "text/plain": [
       "<bound method DataFrame.info of                         song_name            artist_name  \\\n",
       "0      Boulevard of Broken Dreams              Green Day   \n",
       "1                      In The End            Linkin Park   \n",
       "2               Seven Nation Army      The White Stripes   \n",
       "3                      By The Way  Red Hot Chili Peppers   \n",
       "4               How You Remind Me             Nickelback   \n",
       "...                           ...                    ...   \n",
       "18830              Let It Breathe            Water Liars   \n",
       "18831                     Answers        Brooke Annibale   \n",
       "18832      Sudden Love (Acoustic)          The Woodlands   \n",
       "18833           Gentle on My Mind           Robert Ellis   \n",
       "18834                    Up to Me           Sera Cahoone   \n",
       "\n",
       "                              album_names                   playlist  \n",
       "0      Greatest Hits: God's Favorite Band           00s Rock Anthems  \n",
       "1                           Hybrid Theory           00s Rock Anthems  \n",
       "2                                Elephant           00s Rock Anthems  \n",
       "3             By The Way (Deluxe Version)           00s Rock Anthems  \n",
       "4                          Silver Side Up           00s Rock Anthems  \n",
       "...                                   ...                        ...  \n",
       "18830                         Water Liars  Your Favorite Coffeehouse  \n",
       "18831                     The Simple Fear  Your Favorite Coffeehouse  \n",
       "18832                  Parallels, Vol. II  Your Favorite Coffeehouse  \n",
       "18833                           Dear John  Your Favorite Coffeehouse  \n",
       "18834                            Up to Me  Your Favorite Coffeehouse  \n",
       "\n",
       "[18835 rows x 4 columns]>"
      ]
     },
     "execution_count": 210,
     "metadata": {},
     "output_type": "execute_result"
    }
   ],
   "source": [
    "song_inf.info"
   ]
  },
  {
   "cell_type": "code",
   "execution_count": 205,
   "metadata": {},
   "outputs": [
    {
     "data": {
      "text/html": [
       "<div>\n",
       "<style scoped>\n",
       "    .dataframe tbody tr th:only-of-type {\n",
       "        vertical-align: middle;\n",
       "    }\n",
       "\n",
       "    .dataframe tbody tr th {\n",
       "        vertical-align: top;\n",
       "    }\n",
       "\n",
       "    .dataframe thead th {\n",
       "        text-align: right;\n",
       "    }\n",
       "</style>\n",
       "<table border=\"1\" class=\"dataframe\">\n",
       "  <thead>\n",
       "    <tr style=\"text-align: right;\">\n",
       "      <th></th>\n",
       "      <th>song_duration_ms</th>\n",
       "      <th>acousticness</th>\n",
       "      <th>danceability</th>\n",
       "      <th>energy</th>\n",
       "      <th>instrumentalness</th>\n",
       "      <th>liveness</th>\n",
       "      <th>loudness</th>\n",
       "      <th>speechiness</th>\n",
       "      <th>tempo</th>\n",
       "      <th>audio_valence</th>\n",
       "      <th>...</th>\n",
       "      <th>key_9</th>\n",
       "      <th>key_10</th>\n",
       "      <th>key_11</th>\n",
       "      <th>audio_mode_0.0</th>\n",
       "      <th>audio_mode_1.0</th>\n",
       "      <th>time_signature_0.0</th>\n",
       "      <th>time_signature_1.0</th>\n",
       "      <th>time_signature_3.0</th>\n",
       "      <th>time_signature_4.0</th>\n",
       "      <th>time_signature_5.0</th>\n",
       "    </tr>\n",
       "  </thead>\n",
       "  <tbody>\n",
       "    <tr>\n",
       "      <th>0</th>\n",
       "      <td>262333.0</td>\n",
       "      <td>0.005520</td>\n",
       "      <td>0.496</td>\n",
       "      <td>0.682</td>\n",
       "      <td>0.000029</td>\n",
       "      <td>0.0589</td>\n",
       "      <td>-4.095</td>\n",
       "      <td>0.0294</td>\n",
       "      <td>167.060</td>\n",
       "      <td>0.474</td>\n",
       "      <td>...</td>\n",
       "      <td>0</td>\n",
       "      <td>0</td>\n",
       "      <td>0</td>\n",
       "      <td>0</td>\n",
       "      <td>1</td>\n",
       "      <td>0</td>\n",
       "      <td>0</td>\n",
       "      <td>0</td>\n",
       "      <td>1</td>\n",
       "      <td>0</td>\n",
       "    </tr>\n",
       "    <tr>\n",
       "      <th>1</th>\n",
       "      <td>216933.0</td>\n",
       "      <td>0.010300</td>\n",
       "      <td>0.542</td>\n",
       "      <td>0.853</td>\n",
       "      <td>0.000000</td>\n",
       "      <td>0.1080</td>\n",
       "      <td>-6.407</td>\n",
       "      <td>0.0498</td>\n",
       "      <td>105.256</td>\n",
       "      <td>0.370</td>\n",
       "      <td>...</td>\n",
       "      <td>0</td>\n",
       "      <td>0</td>\n",
       "      <td>0</td>\n",
       "      <td>1</td>\n",
       "      <td>0</td>\n",
       "      <td>0</td>\n",
       "      <td>0</td>\n",
       "      <td>0</td>\n",
       "      <td>1</td>\n",
       "      <td>0</td>\n",
       "    </tr>\n",
       "    <tr>\n",
       "      <th>2</th>\n",
       "      <td>231733.0</td>\n",
       "      <td>0.008170</td>\n",
       "      <td>0.737</td>\n",
       "      <td>0.463</td>\n",
       "      <td>0.447000</td>\n",
       "      <td>0.2550</td>\n",
       "      <td>-7.828</td>\n",
       "      <td>0.0792</td>\n",
       "      <td>123.881</td>\n",
       "      <td>0.324</td>\n",
       "      <td>...</td>\n",
       "      <td>0</td>\n",
       "      <td>0</td>\n",
       "      <td>0</td>\n",
       "      <td>0</td>\n",
       "      <td>1</td>\n",
       "      <td>0</td>\n",
       "      <td>0</td>\n",
       "      <td>0</td>\n",
       "      <td>1</td>\n",
       "      <td>0</td>\n",
       "    </tr>\n",
       "    <tr>\n",
       "      <th>3</th>\n",
       "      <td>216933.0</td>\n",
       "      <td>0.026400</td>\n",
       "      <td>0.451</td>\n",
       "      <td>0.970</td>\n",
       "      <td>0.003550</td>\n",
       "      <td>0.1020</td>\n",
       "      <td>-4.938</td>\n",
       "      <td>0.1070</td>\n",
       "      <td>122.444</td>\n",
       "      <td>0.198</td>\n",
       "      <td>...</td>\n",
       "      <td>0</td>\n",
       "      <td>0</td>\n",
       "      <td>0</td>\n",
       "      <td>0</td>\n",
       "      <td>1</td>\n",
       "      <td>0</td>\n",
       "      <td>0</td>\n",
       "      <td>0</td>\n",
       "      <td>1</td>\n",
       "      <td>0</td>\n",
       "    </tr>\n",
       "    <tr>\n",
       "      <th>4</th>\n",
       "      <td>223826.0</td>\n",
       "      <td>0.000954</td>\n",
       "      <td>0.447</td>\n",
       "      <td>0.766</td>\n",
       "      <td>0.000000</td>\n",
       "      <td>0.1130</td>\n",
       "      <td>-5.065</td>\n",
       "      <td>0.0313</td>\n",
       "      <td>172.011</td>\n",
       "      <td>0.574</td>\n",
       "      <td>...</td>\n",
       "      <td>0</td>\n",
       "      <td>1</td>\n",
       "      <td>0</td>\n",
       "      <td>0</td>\n",
       "      <td>1</td>\n",
       "      <td>0</td>\n",
       "      <td>0</td>\n",
       "      <td>0</td>\n",
       "      <td>1</td>\n",
       "      <td>0</td>\n",
       "    </tr>\n",
       "  </tbody>\n",
       "</table>\n",
       "<p>5 rows × 30 columns</p>\n",
       "</div>"
      ],
      "text/plain": [
       "   song_duration_ms  acousticness  danceability  energy  instrumentalness  \\\n",
       "0          262333.0      0.005520         0.496   0.682          0.000029   \n",
       "1          216933.0      0.010300         0.542   0.853          0.000000   \n",
       "2          231733.0      0.008170         0.737   0.463          0.447000   \n",
       "3          216933.0      0.026400         0.451   0.970          0.003550   \n",
       "4          223826.0      0.000954         0.447   0.766          0.000000   \n",
       "\n",
       "   liveness  loudness  speechiness    tempo  audio_valence  ...  key_9  \\\n",
       "0    0.0589    -4.095       0.0294  167.060          0.474  ...      0   \n",
       "1    0.1080    -6.407       0.0498  105.256          0.370  ...      0   \n",
       "2    0.2550    -7.828       0.0792  123.881          0.324  ...      0   \n",
       "3    0.1020    -4.938       0.1070  122.444          0.198  ...      0   \n",
       "4    0.1130    -5.065       0.0313  172.011          0.574  ...      0   \n",
       "\n",
       "   key_10  key_11  audio_mode_0.0  audio_mode_1.0  time_signature_0.0  \\\n",
       "0       0       0               0               1                   0   \n",
       "1       0       0               1               0                   0   \n",
       "2       0       0               0               1                   0   \n",
       "3       0       0               0               1                   0   \n",
       "4       1       0               0               1                   0   \n",
       "\n",
       "   time_signature_1.0  time_signature_3.0  time_signature_4.0  \\\n",
       "0                   0                   0                   1   \n",
       "1                   0                   0                   1   \n",
       "2                   0                   0                   1   \n",
       "3                   0                   0                   1   \n",
       "4                   0                   0                   1   \n",
       "\n",
       "   time_signature_5.0  \n",
       "0                   0  \n",
       "1                   0  \n",
       "2                   0  \n",
       "3                   0  \n",
       "4                   0  \n",
       "\n",
       "[5 rows x 30 columns]"
      ]
     },
     "execution_count": 205,
     "metadata": {},
     "output_type": "execute_result"
    }
   ],
   "source": [
    "song_data.head()"
   ]
  },
  {
   "cell_type": "code",
   "execution_count": 206,
   "metadata": {},
   "outputs": [
    {
     "data": {
      "text/plain": [
       "<bound method DataFrame.info of        song_duration_ms  acousticness  danceability  energy  instrumentalness  \\\n",
       "0              262333.0      0.005520         0.496   0.682          0.000029   \n",
       "1              216933.0      0.010300         0.542   0.853          0.000000   \n",
       "2              231733.0      0.008170         0.737   0.463          0.447000   \n",
       "3              216933.0      0.026400         0.451   0.970          0.003550   \n",
       "4              223826.0      0.000954         0.447   0.766          0.000000   \n",
       "...                 ...           ...           ...     ...               ...   \n",
       "18505          159645.0      0.893000         0.500   0.151          0.000065   \n",
       "18506          205666.0      0.765000         0.495   0.161          0.000001   \n",
       "18507          182211.0      0.847000         0.719   0.325          0.000000   \n",
       "18508          352280.0      0.945000         0.488   0.326          0.015700   \n",
       "18509          193533.0      0.911000         0.640   0.381          0.000254   \n",
       "\n",
       "       liveness  loudness  speechiness    tempo  audio_valence  ...  key_9  \\\n",
       "0        0.0589    -4.095       0.0294  167.060          0.474  ...      0   \n",
       "1        0.1080    -6.407       0.0498  105.256          0.370  ...      0   \n",
       "2        0.2550    -7.828       0.0792  123.881          0.324  ...      0   \n",
       "3        0.1020    -4.938       0.1070  122.444          0.198  ...      0   \n",
       "4        0.1130    -5.065       0.0313  172.011          0.574  ...      0   \n",
       "...         ...       ...          ...      ...            ...  ...    ...   \n",
       "18505    0.1110   -16.107       0.0348  113.969          0.300  ...      0   \n",
       "18506    0.1050   -14.078       0.0301   94.286          0.265  ...      0   \n",
       "18507    0.1250   -12.222       0.0355  130.534          0.286  ...      0   \n",
       "18508    0.1190   -12.020       0.0328  106.063          0.323  ...      0   \n",
       "18509    0.1040   -11.790       0.0302   91.490          0.581  ...      0   \n",
       "\n",
       "       key_10  key_11  audio_mode_0.0  audio_mode_1.0  time_signature_0.0  \\\n",
       "0           0       0               0               1                   0   \n",
       "1           0       0               1               0                   0   \n",
       "2           0       0               0               1                   0   \n",
       "3           0       0               0               1                   0   \n",
       "4           1       0               0               1                   0   \n",
       "...       ...     ...             ...             ...                 ...   \n",
       "18505       0       1               0               1                   0   \n",
       "18506       0       1               1               0                   0   \n",
       "18507       0       0               0               1                   0   \n",
       "18508       0       0               0               1                   0   \n",
       "18509       0       0               0               1                   0   \n",
       "\n",
       "       time_signature_1.0  time_signature_3.0  time_signature_4.0  \\\n",
       "0                       0                   0                   1   \n",
       "1                       0                   0                   1   \n",
       "2                       0                   0                   1   \n",
       "3                       0                   0                   1   \n",
       "4                       0                   0                   1   \n",
       "...                   ...                 ...                 ...   \n",
       "18505                   0                   0                   1   \n",
       "18506                   0                   0                   1   \n",
       "18507                   0                   0                   1   \n",
       "18508                   0                   0                   1   \n",
       "18509                   0                   0                   1   \n",
       "\n",
       "       time_signature_5.0  \n",
       "0                       0  \n",
       "1                       0  \n",
       "2                       0  \n",
       "3                       0  \n",
       "4                       0  \n",
       "...                   ...  \n",
       "18505                   0  \n",
       "18506                   0  \n",
       "18507                   0  \n",
       "18508                   0  \n",
       "18509                   0  \n",
       "\n",
       "[18510 rows x 30 columns]>"
      ]
     },
     "execution_count": 206,
     "metadata": {},
     "output_type": "execute_result"
    }
   ],
   "source": [
    "song_data.info"
   ]
  },
  {
   "cell_type": "markdown",
   "metadata": {},
   "source": [
    " <a id=\"3a\"></a> \n",
    "## Cleaning Data"
   ]
  },
  {
   "cell_type": "code",
   "execution_count": 81,
   "metadata": {},
   "outputs": [
    {
     "data": {
      "text/plain": [
       "Index([], dtype='object')"
      ]
     },
     "execution_count": 81,
     "metadata": {},
     "output_type": "execute_result"
    }
   ],
   "source": [
    "song_data.columns[song_data.isnull().any()]"
   ]
  },
  {
   "cell_type": "code",
   "execution_count": 82,
   "metadata": {},
   "outputs": [
    {
     "data": {
      "text/plain": [
       "song_name           0\n",
       "song_popularity     0\n",
       "song_duration_ms    0\n",
       "acousticness        0\n",
       "danceability        0\n",
       "energy              0\n",
       "instrumentalness    0\n",
       "key                 0\n",
       "liveness            0\n",
       "loudness            0\n",
       "audio_mode          0\n",
       "speechiness         0\n",
       "tempo               0\n",
       "time_signature      0\n",
       "audio_valence       0\n",
       "dtype: int64"
      ]
     },
     "execution_count": 82,
     "metadata": {},
     "output_type": "execute_result"
    }
   ],
   "source": [
    "song_data.isnull().sum()"
   ]
  },
  {
   "cell_type": "markdown",
   "metadata": {},
   "source": [
    " <a id=\"3b\"></a> \n",
    "## Analysis"
   ]
  },
  {
   "cell_type": "code",
   "execution_count": 83,
   "metadata": {
    "_kg_hide-input": true
   },
   "outputs": [
    {
     "name": "stdout",
     "output_type": "stream",
     "text": [
      "<class 'pandas.core.frame.DataFrame'>\n",
      "RangeIndex: 18835 entries, 0 to 18834\n",
      "Data columns (total 15 columns):\n",
      " #   Column            Non-Null Count  Dtype  \n",
      "---  ------            --------------  -----  \n",
      " 0   song_name         18835 non-null  object \n",
      " 1   song_popularity   18835 non-null  int64  \n",
      " 2   song_duration_ms  18835 non-null  int64  \n",
      " 3   acousticness      18835 non-null  float64\n",
      " 4   danceability      18835 non-null  float64\n",
      " 5   energy            18835 non-null  float64\n",
      " 6   instrumentalness  18835 non-null  float64\n",
      " 7   key               18835 non-null  int64  \n",
      " 8   liveness          18835 non-null  float64\n",
      " 9   loudness          18835 non-null  float64\n",
      " 10  audio_mode        18835 non-null  int64  \n",
      " 11  speechiness       18835 non-null  float64\n",
      " 12  tempo             18835 non-null  float64\n",
      " 13  time_signature    18835 non-null  int64  \n",
      " 14  audio_valence     18835 non-null  float64\n",
      "dtypes: float64(9), int64(5), object(1)\n",
      "memory usage: 2.2+ MB\n"
     ]
    }
   ],
   "source": [
    "song_data.info()"
   ]
  },
  {
   "cell_type": "code",
   "execution_count": 84,
   "metadata": {},
   "outputs": [],
   "source": [
    "song_data.song_duration_ms= song_data.song_duration_ms.astype(float)\n",
    "song_data.time_signature= song_data.time_signature.astype(float)\n",
    "song_data.audio_mode= song_data.audio_mode.astype(float)"
   ]
  },
  {
   "cell_type": "code",
   "execution_count": 14,
   "metadata": {
    "_kg_hide-input": true
   },
   "outputs": [
    {
     "data": {
      "text/html": [
       "<div>\n",
       "<style scoped>\n",
       "    .dataframe tbody tr th:only-of-type {\n",
       "        vertical-align: middle;\n",
       "    }\n",
       "\n",
       "    .dataframe tbody tr th {\n",
       "        vertical-align: top;\n",
       "    }\n",
       "\n",
       "    .dataframe thead th {\n",
       "        text-align: right;\n",
       "    }\n",
       "</style>\n",
       "<table border=\"1\" class=\"dataframe\">\n",
       "  <thead>\n",
       "    <tr style=\"text-align: right;\">\n",
       "      <th></th>\n",
       "      <th>song_popularity</th>\n",
       "      <th>song_duration_ms</th>\n",
       "      <th>acousticness</th>\n",
       "      <th>danceability</th>\n",
       "      <th>energy</th>\n",
       "      <th>instrumentalness</th>\n",
       "      <th>key</th>\n",
       "      <th>liveness</th>\n",
       "      <th>loudness</th>\n",
       "      <th>audio_mode</th>\n",
       "      <th>speechiness</th>\n",
       "      <th>tempo</th>\n",
       "      <th>time_signature</th>\n",
       "      <th>audio_valence</th>\n",
       "    </tr>\n",
       "  </thead>\n",
       "  <tbody>\n",
       "    <tr>\n",
       "      <th>count</th>\n",
       "      <td>18835.000000</td>\n",
       "      <td>1.883500e+04</td>\n",
       "      <td>18835.000000</td>\n",
       "      <td>18835.000000</td>\n",
       "      <td>18835.000000</td>\n",
       "      <td>18835.000000</td>\n",
       "      <td>18835.000000</td>\n",
       "      <td>18835.000000</td>\n",
       "      <td>18835.000000</td>\n",
       "      <td>18835.000000</td>\n",
       "      <td>18835.000000</td>\n",
       "      <td>18835.000000</td>\n",
       "      <td>18835.000000</td>\n",
       "      <td>18835.000000</td>\n",
       "    </tr>\n",
       "    <tr>\n",
       "      <th>mean</th>\n",
       "      <td>52.991877</td>\n",
       "      <td>2.182116e+05</td>\n",
       "      <td>0.258539</td>\n",
       "      <td>0.633348</td>\n",
       "      <td>0.644995</td>\n",
       "      <td>0.078008</td>\n",
       "      <td>5.289196</td>\n",
       "      <td>0.179650</td>\n",
       "      <td>-7.447435</td>\n",
       "      <td>0.628139</td>\n",
       "      <td>0.102099</td>\n",
       "      <td>121.073154</td>\n",
       "      <td>3.959119</td>\n",
       "      <td>0.527967</td>\n",
       "    </tr>\n",
       "    <tr>\n",
       "      <th>std</th>\n",
       "      <td>21.905654</td>\n",
       "      <td>5.988754e+04</td>\n",
       "      <td>0.288719</td>\n",
       "      <td>0.156723</td>\n",
       "      <td>0.214101</td>\n",
       "      <td>0.221591</td>\n",
       "      <td>3.614595</td>\n",
       "      <td>0.143984</td>\n",
       "      <td>3.827831</td>\n",
       "      <td>0.483314</td>\n",
       "      <td>0.104378</td>\n",
       "      <td>28.714456</td>\n",
       "      <td>0.298533</td>\n",
       "      <td>0.244632</td>\n",
       "    </tr>\n",
       "    <tr>\n",
       "      <th>min</th>\n",
       "      <td>0.000000</td>\n",
       "      <td>1.200000e+04</td>\n",
       "      <td>0.000001</td>\n",
       "      <td>0.000000</td>\n",
       "      <td>0.001070</td>\n",
       "      <td>0.000000</td>\n",
       "      <td>0.000000</td>\n",
       "      <td>0.010900</td>\n",
       "      <td>-38.768000</td>\n",
       "      <td>0.000000</td>\n",
       "      <td>0.000000</td>\n",
       "      <td>0.000000</td>\n",
       "      <td>0.000000</td>\n",
       "      <td>0.000000</td>\n",
       "    </tr>\n",
       "    <tr>\n",
       "      <th>25%</th>\n",
       "      <td>40.000000</td>\n",
       "      <td>1.843395e+05</td>\n",
       "      <td>0.024100</td>\n",
       "      <td>0.533000</td>\n",
       "      <td>0.510000</td>\n",
       "      <td>0.000000</td>\n",
       "      <td>2.000000</td>\n",
       "      <td>0.092900</td>\n",
       "      <td>-9.044000</td>\n",
       "      <td>0.000000</td>\n",
       "      <td>0.037800</td>\n",
       "      <td>98.368000</td>\n",
       "      <td>4.000000</td>\n",
       "      <td>0.335000</td>\n",
       "    </tr>\n",
       "    <tr>\n",
       "      <th>50%</th>\n",
       "      <td>56.000000</td>\n",
       "      <td>2.113060e+05</td>\n",
       "      <td>0.132000</td>\n",
       "      <td>0.645000</td>\n",
       "      <td>0.674000</td>\n",
       "      <td>0.000011</td>\n",
       "      <td>5.000000</td>\n",
       "      <td>0.122000</td>\n",
       "      <td>-6.555000</td>\n",
       "      <td>1.000000</td>\n",
       "      <td>0.055500</td>\n",
       "      <td>120.013000</td>\n",
       "      <td>4.000000</td>\n",
       "      <td>0.527000</td>\n",
       "    </tr>\n",
       "    <tr>\n",
       "      <th>75%</th>\n",
       "      <td>69.000000</td>\n",
       "      <td>2.428440e+05</td>\n",
       "      <td>0.424000</td>\n",
       "      <td>0.748000</td>\n",
       "      <td>0.815000</td>\n",
       "      <td>0.002570</td>\n",
       "      <td>8.000000</td>\n",
       "      <td>0.221000</td>\n",
       "      <td>-4.908000</td>\n",
       "      <td>1.000000</td>\n",
       "      <td>0.119000</td>\n",
       "      <td>139.931000</td>\n",
       "      <td>4.000000</td>\n",
       "      <td>0.725000</td>\n",
       "    </tr>\n",
       "    <tr>\n",
       "      <th>max</th>\n",
       "      <td>100.000000</td>\n",
       "      <td>1.799346e+06</td>\n",
       "      <td>0.996000</td>\n",
       "      <td>0.987000</td>\n",
       "      <td>0.999000</td>\n",
       "      <td>0.997000</td>\n",
       "      <td>11.000000</td>\n",
       "      <td>0.986000</td>\n",
       "      <td>1.585000</td>\n",
       "      <td>1.000000</td>\n",
       "      <td>0.941000</td>\n",
       "      <td>242.318000</td>\n",
       "      <td>5.000000</td>\n",
       "      <td>0.984000</td>\n",
       "    </tr>\n",
       "  </tbody>\n",
       "</table>\n",
       "</div>"
      ],
      "text/plain": [
       "       song_popularity  song_duration_ms  acousticness  danceability  \\\n",
       "count     18835.000000      1.883500e+04  18835.000000  18835.000000   \n",
       "mean         52.991877      2.182116e+05      0.258539      0.633348   \n",
       "std          21.905654      5.988754e+04      0.288719      0.156723   \n",
       "min           0.000000      1.200000e+04      0.000001      0.000000   \n",
       "25%          40.000000      1.843395e+05      0.024100      0.533000   \n",
       "50%          56.000000      2.113060e+05      0.132000      0.645000   \n",
       "75%          69.000000      2.428440e+05      0.424000      0.748000   \n",
       "max         100.000000      1.799346e+06      0.996000      0.987000   \n",
       "\n",
       "             energy  instrumentalness           key      liveness  \\\n",
       "count  18835.000000      18835.000000  18835.000000  18835.000000   \n",
       "mean       0.644995          0.078008      5.289196      0.179650   \n",
       "std        0.214101          0.221591      3.614595      0.143984   \n",
       "min        0.001070          0.000000      0.000000      0.010900   \n",
       "25%        0.510000          0.000000      2.000000      0.092900   \n",
       "50%        0.674000          0.000011      5.000000      0.122000   \n",
       "75%        0.815000          0.002570      8.000000      0.221000   \n",
       "max        0.999000          0.997000     11.000000      0.986000   \n",
       "\n",
       "           loudness    audio_mode   speechiness         tempo  time_signature  \\\n",
       "count  18835.000000  18835.000000  18835.000000  18835.000000    18835.000000   \n",
       "mean      -7.447435      0.628139      0.102099    121.073154        3.959119   \n",
       "std        3.827831      0.483314      0.104378     28.714456        0.298533   \n",
       "min      -38.768000      0.000000      0.000000      0.000000        0.000000   \n",
       "25%       -9.044000      0.000000      0.037800     98.368000        4.000000   \n",
       "50%       -6.555000      1.000000      0.055500    120.013000        4.000000   \n",
       "75%       -4.908000      1.000000      0.119000    139.931000        4.000000   \n",
       "max        1.585000      1.000000      0.941000    242.318000        5.000000   \n",
       "\n",
       "       audio_valence  \n",
       "count   18835.000000  \n",
       "mean        0.527967  \n",
       "std         0.244632  \n",
       "min         0.000000  \n",
       "25%         0.335000  \n",
       "50%         0.527000  \n",
       "75%         0.725000  \n",
       "max         0.984000  "
      ]
     },
     "execution_count": 14,
     "metadata": {},
     "output_type": "execute_result"
    }
   ],
   "source": [
    "song_data.describe()"
   ]
  },
  {
   "cell_type": "code",
   "execution_count": 85,
   "metadata": {},
   "outputs": [
    {
     "data": {
      "text/plain": [
       "0    13386\n",
       "1     5449\n",
       "Name: popularity, dtype: int64"
      ]
     },
     "execution_count": 85,
     "metadata": {},
     "output_type": "execute_result"
    }
   ],
   "source": [
    "song_data[\"popularity\"]= [ 1 if i>=66.5 else 0 for i in song_data.song_popularity ]\n",
    "song_data[\"popularity\"].value_counts()"
   ]
  },
  {
   "cell_type": "markdown",
   "metadata": {},
   "source": [
    "- Checked popularity rating of songs that have been popular in the last 10 years in Spotify and took the mean value of them (66.5) . According to this value, the songs has above this rating could remain on the top lists for a long time. If song_popularity is higher than 66.5 (this is about 30% percent of data) we labeled it \"1\" and if is not we labeled it \"0\". So we have \"1\" for the popular songs and \"0\" for the unpopular ones."
   ]
  },
  {
   "cell_type": "code",
   "execution_count": 86,
   "metadata": {},
   "outputs": [
    {
     "data": {
      "text/html": [
       "<div>\n",
       "<style scoped>\n",
       "    .dataframe tbody tr th:only-of-type {\n",
       "        vertical-align: middle;\n",
       "    }\n",
       "\n",
       "    .dataframe tbody tr th {\n",
       "        vertical-align: top;\n",
       "    }\n",
       "\n",
       "    .dataframe thead th {\n",
       "        text-align: right;\n",
       "    }\n",
       "</style>\n",
       "<table border=\"1\" class=\"dataframe\">\n",
       "  <thead>\n",
       "    <tr style=\"text-align: right;\">\n",
       "      <th></th>\n",
       "      <th>song_popularity</th>\n",
       "      <th>song_duration_ms</th>\n",
       "      <th>acousticness</th>\n",
       "      <th>danceability</th>\n",
       "      <th>energy</th>\n",
       "      <th>instrumentalness</th>\n",
       "      <th>key</th>\n",
       "      <th>liveness</th>\n",
       "      <th>loudness</th>\n",
       "      <th>audio_mode</th>\n",
       "      <th>speechiness</th>\n",
       "      <th>tempo</th>\n",
       "      <th>time_signature</th>\n",
       "      <th>audio_valence</th>\n",
       "      <th>popularity</th>\n",
       "    </tr>\n",
       "  </thead>\n",
       "  <tbody>\n",
       "    <tr>\n",
       "      <th>count</th>\n",
       "      <td>5449.000000</td>\n",
       "      <td>5449.000000</td>\n",
       "      <td>5449.000000</td>\n",
       "      <td>5449.000000</td>\n",
       "      <td>5449.000000</td>\n",
       "      <td>5449.000000</td>\n",
       "      <td>5449.00000</td>\n",
       "      <td>5449.000000</td>\n",
       "      <td>5449.000000</td>\n",
       "      <td>5449.000000</td>\n",
       "      <td>5449.000000</td>\n",
       "      <td>5449.000000</td>\n",
       "      <td>5449.000000</td>\n",
       "      <td>5449.000000</td>\n",
       "      <td>5449.0</td>\n",
       "    </tr>\n",
       "    <tr>\n",
       "      <th>mean</th>\n",
       "      <td>76.992292</td>\n",
       "      <td>218539.555515</td>\n",
       "      <td>0.210354</td>\n",
       "      <td>0.659758</td>\n",
       "      <td>0.658601</td>\n",
       "      <td>0.022390</td>\n",
       "      <td>5.11782</td>\n",
       "      <td>0.174400</td>\n",
       "      <td>-6.624852</td>\n",
       "      <td>0.618829</td>\n",
       "      <td>0.106247</td>\n",
       "      <td>120.753878</td>\n",
       "      <td>3.974307</td>\n",
       "      <td>0.520436</td>\n",
       "      <td>1.0</td>\n",
       "    </tr>\n",
       "    <tr>\n",
       "      <th>std</th>\n",
       "      <td>8.068717</td>\n",
       "      <td>48620.048311</td>\n",
       "      <td>0.246079</td>\n",
       "      <td>0.147652</td>\n",
       "      <td>0.187495</td>\n",
       "      <td>0.115572</td>\n",
       "      <td>3.65752</td>\n",
       "      <td>0.137557</td>\n",
       "      <td>3.139341</td>\n",
       "      <td>0.485719</td>\n",
       "      <td>0.102181</td>\n",
       "      <td>27.737971</td>\n",
       "      <td>0.255771</td>\n",
       "      <td>0.230911</td>\n",
       "      <td>0.0</td>\n",
       "    </tr>\n",
       "    <tr>\n",
       "      <th>min</th>\n",
       "      <td>67.000000</td>\n",
       "      <td>67000.000000</td>\n",
       "      <td>0.000009</td>\n",
       "      <td>0.072200</td>\n",
       "      <td>0.002890</td>\n",
       "      <td>0.000000</td>\n",
       "      <td>0.00000</td>\n",
       "      <td>0.021500</td>\n",
       "      <td>-34.255000</td>\n",
       "      <td>0.000000</td>\n",
       "      <td>0.022400</td>\n",
       "      <td>57.178000</td>\n",
       "      <td>1.000000</td>\n",
       "      <td>0.035200</td>\n",
       "      <td>1.0</td>\n",
       "    </tr>\n",
       "    <tr>\n",
       "      <th>25%</th>\n",
       "      <td>71.000000</td>\n",
       "      <td>190185.000000</td>\n",
       "      <td>0.026300</td>\n",
       "      <td>0.562000</td>\n",
       "      <td>0.541000</td>\n",
       "      <td>0.000000</td>\n",
       "      <td>1.00000</td>\n",
       "      <td>0.092000</td>\n",
       "      <td>-7.906000</td>\n",
       "      <td>0.000000</td>\n",
       "      <td>0.039100</td>\n",
       "      <td>98.883000</td>\n",
       "      <td>4.000000</td>\n",
       "      <td>0.336000</td>\n",
       "      <td>1.0</td>\n",
       "    </tr>\n",
       "    <tr>\n",
       "      <th>50%</th>\n",
       "      <td>75.000000</td>\n",
       "      <td>212429.000000</td>\n",
       "      <td>0.106000</td>\n",
       "      <td>0.668000</td>\n",
       "      <td>0.680000</td>\n",
       "      <td>0.000000</td>\n",
       "      <td>5.00000</td>\n",
       "      <td>0.121000</td>\n",
       "      <td>-5.985000</td>\n",
       "      <td>1.000000</td>\n",
       "      <td>0.059100</td>\n",
       "      <td>119.886000</td>\n",
       "      <td>4.000000</td>\n",
       "      <td>0.511000</td>\n",
       "      <td>1.0</td>\n",
       "    </tr>\n",
       "    <tr>\n",
       "      <th>75%</th>\n",
       "      <td>82.000000</td>\n",
       "      <td>240533.000000</td>\n",
       "      <td>0.300000</td>\n",
       "      <td>0.765000</td>\n",
       "      <td>0.802000</td>\n",
       "      <td>0.000118</td>\n",
       "      <td>8.00000</td>\n",
       "      <td>0.203000</td>\n",
       "      <td>-4.626000</td>\n",
       "      <td>1.000000</td>\n",
       "      <td>0.131000</td>\n",
       "      <td>139.910000</td>\n",
       "      <td>4.000000</td>\n",
       "      <td>0.701000</td>\n",
       "      <td>1.0</td>\n",
       "    </tr>\n",
       "    <tr>\n",
       "      <th>max</th>\n",
       "      <td>100.000000</td>\n",
       "      <td>547733.000000</td>\n",
       "      <td>0.996000</td>\n",
       "      <td>0.978000</td>\n",
       "      <td>0.997000</td>\n",
       "      <td>0.968000</td>\n",
       "      <td>11.00000</td>\n",
       "      <td>0.978000</td>\n",
       "      <td>-0.739000</td>\n",
       "      <td>1.000000</td>\n",
       "      <td>0.733000</td>\n",
       "      <td>212.058000</td>\n",
       "      <td>5.000000</td>\n",
       "      <td>0.980000</td>\n",
       "      <td>1.0</td>\n",
       "    </tr>\n",
       "  </tbody>\n",
       "</table>\n",
       "</div>"
      ],
      "text/plain": [
       "       song_popularity  song_duration_ms  acousticness  danceability  \\\n",
       "count      5449.000000       5449.000000   5449.000000   5449.000000   \n",
       "mean         76.992292     218539.555515      0.210354      0.659758   \n",
       "std           8.068717      48620.048311      0.246079      0.147652   \n",
       "min          67.000000      67000.000000      0.000009      0.072200   \n",
       "25%          71.000000     190185.000000      0.026300      0.562000   \n",
       "50%          75.000000     212429.000000      0.106000      0.668000   \n",
       "75%          82.000000     240533.000000      0.300000      0.765000   \n",
       "max         100.000000     547733.000000      0.996000      0.978000   \n",
       "\n",
       "            energy  instrumentalness         key     liveness     loudness  \\\n",
       "count  5449.000000       5449.000000  5449.00000  5449.000000  5449.000000   \n",
       "mean      0.658601          0.022390     5.11782     0.174400    -6.624852   \n",
       "std       0.187495          0.115572     3.65752     0.137557     3.139341   \n",
       "min       0.002890          0.000000     0.00000     0.021500   -34.255000   \n",
       "25%       0.541000          0.000000     1.00000     0.092000    -7.906000   \n",
       "50%       0.680000          0.000000     5.00000     0.121000    -5.985000   \n",
       "75%       0.802000          0.000118     8.00000     0.203000    -4.626000   \n",
       "max       0.997000          0.968000    11.00000     0.978000    -0.739000   \n",
       "\n",
       "        audio_mode  speechiness        tempo  time_signature  audio_valence  \\\n",
       "count  5449.000000  5449.000000  5449.000000     5449.000000    5449.000000   \n",
       "mean      0.618829     0.106247   120.753878        3.974307       0.520436   \n",
       "std       0.485719     0.102181    27.737971        0.255771       0.230911   \n",
       "min       0.000000     0.022400    57.178000        1.000000       0.035200   \n",
       "25%       0.000000     0.039100    98.883000        4.000000       0.336000   \n",
       "50%       1.000000     0.059100   119.886000        4.000000       0.511000   \n",
       "75%       1.000000     0.131000   139.910000        4.000000       0.701000   \n",
       "max       1.000000     0.733000   212.058000        5.000000       0.980000   \n",
       "\n",
       "       popularity  \n",
       "count      5449.0  \n",
       "mean          1.0  \n",
       "std           0.0  \n",
       "min           1.0  \n",
       "25%           1.0  \n",
       "50%           1.0  \n",
       "75%           1.0  \n",
       "max           1.0  "
      ]
     },
     "execution_count": 86,
     "metadata": {},
     "output_type": "execute_result"
    }
   ],
   "source": [
    "#popular songs' data\n",
    "a=song_data[song_data[\"popularity\"]==1]\n",
    "a.describe()"
   ]
  },
  {
   "cell_type": "markdown",
   "metadata": {},
   "source": [
    "# corelation"
   ]
  },
  {
   "cell_type": "code",
   "execution_count": 87,
   "metadata": {
    "_kg_hide-input": true
   },
   "outputs": [
    {
     "data": {
      "text/html": [
       "<div>\n",
       "<style scoped>\n",
       "    .dataframe tbody tr th:only-of-type {\n",
       "        vertical-align: middle;\n",
       "    }\n",
       "\n",
       "    .dataframe tbody tr th {\n",
       "        vertical-align: top;\n",
       "    }\n",
       "\n",
       "    .dataframe thead th {\n",
       "        text-align: right;\n",
       "    }\n",
       "</style>\n",
       "<table border=\"1\" class=\"dataframe\">\n",
       "  <thead>\n",
       "    <tr style=\"text-align: right;\">\n",
       "      <th></th>\n",
       "      <th>song_popularity</th>\n",
       "      <th>song_duration_ms</th>\n",
       "      <th>acousticness</th>\n",
       "      <th>danceability</th>\n",
       "      <th>energy</th>\n",
       "      <th>instrumentalness</th>\n",
       "      <th>key</th>\n",
       "      <th>liveness</th>\n",
       "      <th>loudness</th>\n",
       "      <th>audio_mode</th>\n",
       "      <th>speechiness</th>\n",
       "      <th>tempo</th>\n",
       "      <th>time_signature</th>\n",
       "      <th>audio_valence</th>\n",
       "      <th>popularity</th>\n",
       "    </tr>\n",
       "  </thead>\n",
       "  <tbody>\n",
       "    <tr>\n",
       "      <th>song_popularity</th>\n",
       "      <td>1.000000</td>\n",
       "      <td>-0.018899</td>\n",
       "      <td>-0.065181</td>\n",
       "      <td>0.104290</td>\n",
       "      <td>0.001365</td>\n",
       "      <td>-0.130907</td>\n",
       "      <td>-0.013160</td>\n",
       "      <td>-0.038937</td>\n",
       "      <td>0.099442</td>\n",
       "      <td>-0.004969</td>\n",
       "      <td>0.021479</td>\n",
       "      <td>-0.022672</td>\n",
       "      <td>0.034983</td>\n",
       "      <td>-0.052895</td>\n",
       "      <td>0.699048</td>\n",
       "    </tr>\n",
       "    <tr>\n",
       "      <th>song_duration_ms</th>\n",
       "      <td>-0.018899</td>\n",
       "      <td>1.000000</td>\n",
       "      <td>-0.097882</td>\n",
       "      <td>-0.104985</td>\n",
       "      <td>0.092688</td>\n",
       "      <td>-0.015188</td>\n",
       "      <td>-0.004615</td>\n",
       "      <td>0.016086</td>\n",
       "      <td>0.016469</td>\n",
       "      <td>-0.026328</td>\n",
       "      <td>-0.083447</td>\n",
       "      <td>0.012791</td>\n",
       "      <td>0.000264</td>\n",
       "      <td>-0.063421</td>\n",
       "      <td>0.003494</td>\n",
       "    </tr>\n",
       "    <tr>\n",
       "      <th>acousticness</th>\n",
       "      <td>-0.065181</td>\n",
       "      <td>-0.097882</td>\n",
       "      <td>1.000000</td>\n",
       "      <td>-0.182500</td>\n",
       "      <td>-0.662639</td>\n",
       "      <td>0.173098</td>\n",
       "      <td>-0.002025</td>\n",
       "      <td>-0.082537</td>\n",
       "      <td>-0.557744</td>\n",
       "      <td>0.064100</td>\n",
       "      <td>-0.093574</td>\n",
       "      <td>-0.136421</td>\n",
       "      <td>-0.157177</td>\n",
       "      <td>-0.121670</td>\n",
       "      <td>-0.106483</td>\n",
       "    </tr>\n",
       "    <tr>\n",
       "      <th>danceability</th>\n",
       "      <td>0.104290</td>\n",
       "      <td>-0.104985</td>\n",
       "      <td>-0.182500</td>\n",
       "      <td>1.000000</td>\n",
       "      <td>0.044373</td>\n",
       "      <td>-0.130483</td>\n",
       "      <td>0.007723</td>\n",
       "      <td>-0.090694</td>\n",
       "      <td>0.177639</td>\n",
       "      <td>-0.106539</td>\n",
       "      <td>0.213728</td>\n",
       "      <td>-0.121286</td>\n",
       "      <td>0.136391</td>\n",
       "      <td>0.332014</td>\n",
       "      <td>0.107519</td>\n",
       "    </tr>\n",
       "    <tr>\n",
       "      <th>energy</th>\n",
       "      <td>0.001365</td>\n",
       "      <td>0.092688</td>\n",
       "      <td>-0.662639</td>\n",
       "      <td>0.044373</td>\n",
       "      <td>1.000000</td>\n",
       "      <td>-0.205914</td>\n",
       "      <td>0.020416</td>\n",
       "      <td>0.167143</td>\n",
       "      <td>0.755516</td>\n",
       "      <td>-0.051605</td>\n",
       "      <td>0.062053</td>\n",
       "      <td>0.162448</td>\n",
       "      <td>0.146265</td>\n",
       "      <td>0.316742</td>\n",
       "      <td>0.040548</td>\n",
       "    </tr>\n",
       "    <tr>\n",
       "      <th>instrumentalness</th>\n",
       "      <td>-0.130907</td>\n",
       "      <td>-0.015188</td>\n",
       "      <td>0.173098</td>\n",
       "      <td>-0.130483</td>\n",
       "      <td>-0.205914</td>\n",
       "      <td>1.000000</td>\n",
       "      <td>-0.009463</td>\n",
       "      <td>-0.032887</td>\n",
       "      <td>-0.390248</td>\n",
       "      <td>-0.014983</td>\n",
       "      <td>-0.081138</td>\n",
       "      <td>-0.036934</td>\n",
       "      <td>-0.069181</td>\n",
       "      <td>-0.178570</td>\n",
       "      <td>-0.160144</td>\n",
       "    </tr>\n",
       "    <tr>\n",
       "      <th>key</th>\n",
       "      <td>-0.013160</td>\n",
       "      <td>-0.004615</td>\n",
       "      <td>-0.002025</td>\n",
       "      <td>0.007723</td>\n",
       "      <td>0.020416</td>\n",
       "      <td>-0.009463</td>\n",
       "      <td>1.000000</td>\n",
       "      <td>-0.008193</td>\n",
       "      <td>0.010452</td>\n",
       "      <td>-0.169848</td>\n",
       "      <td>0.033639</td>\n",
       "      <td>0.003239</td>\n",
       "      <td>-0.008282</td>\n",
       "      <td>0.025356</td>\n",
       "      <td>-0.030251</td>\n",
       "    </tr>\n",
       "    <tr>\n",
       "      <th>liveness</th>\n",
       "      <td>-0.038937</td>\n",
       "      <td>0.016086</td>\n",
       "      <td>-0.082537</td>\n",
       "      <td>-0.090694</td>\n",
       "      <td>0.167143</td>\n",
       "      <td>-0.032887</td>\n",
       "      <td>-0.008193</td>\n",
       "      <td>1.000000</td>\n",
       "      <td>0.102450</td>\n",
       "      <td>-0.001035</td>\n",
       "      <td>0.090845</td>\n",
       "      <td>0.031876</td>\n",
       "      <td>0.013289</td>\n",
       "      <td>0.013789</td>\n",
       "      <td>-0.023265</td>\n",
       "    </tr>\n",
       "    <tr>\n",
       "      <th>loudness</th>\n",
       "      <td>0.099442</td>\n",
       "      <td>0.016469</td>\n",
       "      <td>-0.557744</td>\n",
       "      <td>0.177639</td>\n",
       "      <td>0.755516</td>\n",
       "      <td>-0.390248</td>\n",
       "      <td>0.010452</td>\n",
       "      <td>0.102450</td>\n",
       "      <td>1.000000</td>\n",
       "      <td>-0.058506</td>\n",
       "      <td>0.078164</td>\n",
       "      <td>0.129938</td>\n",
       "      <td>0.119241</td>\n",
       "      <td>0.199696</td>\n",
       "      <td>0.137111</td>\n",
       "    </tr>\n",
       "    <tr>\n",
       "      <th>audio_mode</th>\n",
       "      <td>-0.004969</td>\n",
       "      <td>-0.026328</td>\n",
       "      <td>0.064100</td>\n",
       "      <td>-0.106539</td>\n",
       "      <td>-0.051605</td>\n",
       "      <td>-0.014983</td>\n",
       "      <td>-0.169848</td>\n",
       "      <td>-0.001035</td>\n",
       "      <td>-0.058506</td>\n",
       "      <td>1.000000</td>\n",
       "      <td>-0.111627</td>\n",
       "      <td>0.020448</td>\n",
       "      <td>-0.024042</td>\n",
       "      <td>-0.004558</td>\n",
       "      <td>-0.012290</td>\n",
       "    </tr>\n",
       "    <tr>\n",
       "      <th>speechiness</th>\n",
       "      <td>0.021479</td>\n",
       "      <td>-0.083447</td>\n",
       "      <td>-0.093574</td>\n",
       "      <td>0.213728</td>\n",
       "      <td>0.062053</td>\n",
       "      <td>-0.081138</td>\n",
       "      <td>0.033639</td>\n",
       "      <td>0.090845</td>\n",
       "      <td>0.078164</td>\n",
       "      <td>-0.111627</td>\n",
       "      <td>1.000000</td>\n",
       "      <td>0.071685</td>\n",
       "      <td>0.057162</td>\n",
       "      <td>0.011046</td>\n",
       "      <td>0.025356</td>\n",
       "    </tr>\n",
       "    <tr>\n",
       "      <th>tempo</th>\n",
       "      <td>-0.022672</td>\n",
       "      <td>0.012791</td>\n",
       "      <td>-0.136421</td>\n",
       "      <td>-0.121286</td>\n",
       "      <td>0.162448</td>\n",
       "      <td>-0.036934</td>\n",
       "      <td>0.003239</td>\n",
       "      <td>0.031876</td>\n",
       "      <td>0.129938</td>\n",
       "      <td>0.020448</td>\n",
       "      <td>0.071685</td>\n",
       "      <td>1.000000</td>\n",
       "      <td>0.003978</td>\n",
       "      <td>0.037667</td>\n",
       "      <td>-0.007094</td>\n",
       "    </tr>\n",
       "    <tr>\n",
       "      <th>time_signature</th>\n",
       "      <td>0.034983</td>\n",
       "      <td>0.000264</td>\n",
       "      <td>-0.157177</td>\n",
       "      <td>0.136391</td>\n",
       "      <td>0.146265</td>\n",
       "      <td>-0.069181</td>\n",
       "      <td>-0.008282</td>\n",
       "      <td>0.013289</td>\n",
       "      <td>0.119241</td>\n",
       "      <td>-0.024042</td>\n",
       "      <td>0.057162</td>\n",
       "      <td>0.003978</td>\n",
       "      <td>1.000000</td>\n",
       "      <td>0.094670</td>\n",
       "      <td>0.032462</td>\n",
       "    </tr>\n",
       "    <tr>\n",
       "      <th>audio_valence</th>\n",
       "      <td>-0.052895</td>\n",
       "      <td>-0.063421</td>\n",
       "      <td>-0.121670</td>\n",
       "      <td>0.332014</td>\n",
       "      <td>0.316742</td>\n",
       "      <td>-0.178570</td>\n",
       "      <td>0.025356</td>\n",
       "      <td>0.013789</td>\n",
       "      <td>0.199696</td>\n",
       "      <td>-0.004558</td>\n",
       "      <td>0.011046</td>\n",
       "      <td>0.037667</td>\n",
       "      <td>0.094670</td>\n",
       "      <td>1.000000</td>\n",
       "      <td>-0.019643</td>\n",
       "    </tr>\n",
       "    <tr>\n",
       "      <th>popularity</th>\n",
       "      <td>0.699048</td>\n",
       "      <td>0.003494</td>\n",
       "      <td>-0.106483</td>\n",
       "      <td>0.107519</td>\n",
       "      <td>0.040548</td>\n",
       "      <td>-0.160144</td>\n",
       "      <td>-0.030251</td>\n",
       "      <td>-0.023265</td>\n",
       "      <td>0.137111</td>\n",
       "      <td>-0.012290</td>\n",
       "      <td>0.025356</td>\n",
       "      <td>-0.007094</td>\n",
       "      <td>0.032462</td>\n",
       "      <td>-0.019643</td>\n",
       "      <td>1.000000</td>\n",
       "    </tr>\n",
       "  </tbody>\n",
       "</table>\n",
       "</div>"
      ],
      "text/plain": [
       "                  song_popularity  song_duration_ms  acousticness  \\\n",
       "song_popularity          1.000000         -0.018899     -0.065181   \n",
       "song_duration_ms        -0.018899          1.000000     -0.097882   \n",
       "acousticness            -0.065181         -0.097882      1.000000   \n",
       "danceability             0.104290         -0.104985     -0.182500   \n",
       "energy                   0.001365          0.092688     -0.662639   \n",
       "instrumentalness        -0.130907         -0.015188      0.173098   \n",
       "key                     -0.013160         -0.004615     -0.002025   \n",
       "liveness                -0.038937          0.016086     -0.082537   \n",
       "loudness                 0.099442          0.016469     -0.557744   \n",
       "audio_mode              -0.004969         -0.026328      0.064100   \n",
       "speechiness              0.021479         -0.083447     -0.093574   \n",
       "tempo                   -0.022672          0.012791     -0.136421   \n",
       "time_signature           0.034983          0.000264     -0.157177   \n",
       "audio_valence           -0.052895         -0.063421     -0.121670   \n",
       "popularity               0.699048          0.003494     -0.106483   \n",
       "\n",
       "                  danceability    energy  instrumentalness       key  \\\n",
       "song_popularity       0.104290  0.001365         -0.130907 -0.013160   \n",
       "song_duration_ms     -0.104985  0.092688         -0.015188 -0.004615   \n",
       "acousticness         -0.182500 -0.662639          0.173098 -0.002025   \n",
       "danceability          1.000000  0.044373         -0.130483  0.007723   \n",
       "energy                0.044373  1.000000         -0.205914  0.020416   \n",
       "instrumentalness     -0.130483 -0.205914          1.000000 -0.009463   \n",
       "key                   0.007723  0.020416         -0.009463  1.000000   \n",
       "liveness             -0.090694  0.167143         -0.032887 -0.008193   \n",
       "loudness              0.177639  0.755516         -0.390248  0.010452   \n",
       "audio_mode           -0.106539 -0.051605         -0.014983 -0.169848   \n",
       "speechiness           0.213728  0.062053         -0.081138  0.033639   \n",
       "tempo                -0.121286  0.162448         -0.036934  0.003239   \n",
       "time_signature        0.136391  0.146265         -0.069181 -0.008282   \n",
       "audio_valence         0.332014  0.316742         -0.178570  0.025356   \n",
       "popularity            0.107519  0.040548         -0.160144 -0.030251   \n",
       "\n",
       "                  liveness  loudness  audio_mode  speechiness     tempo  \\\n",
       "song_popularity  -0.038937  0.099442   -0.004969     0.021479 -0.022672   \n",
       "song_duration_ms  0.016086  0.016469   -0.026328    -0.083447  0.012791   \n",
       "acousticness     -0.082537 -0.557744    0.064100    -0.093574 -0.136421   \n",
       "danceability     -0.090694  0.177639   -0.106539     0.213728 -0.121286   \n",
       "energy            0.167143  0.755516   -0.051605     0.062053  0.162448   \n",
       "instrumentalness -0.032887 -0.390248   -0.014983    -0.081138 -0.036934   \n",
       "key              -0.008193  0.010452   -0.169848     0.033639  0.003239   \n",
       "liveness          1.000000  0.102450   -0.001035     0.090845  0.031876   \n",
       "loudness          0.102450  1.000000   -0.058506     0.078164  0.129938   \n",
       "audio_mode       -0.001035 -0.058506    1.000000    -0.111627  0.020448   \n",
       "speechiness       0.090845  0.078164   -0.111627     1.000000  0.071685   \n",
       "tempo             0.031876  0.129938    0.020448     0.071685  1.000000   \n",
       "time_signature    0.013289  0.119241   -0.024042     0.057162  0.003978   \n",
       "audio_valence     0.013789  0.199696   -0.004558     0.011046  0.037667   \n",
       "popularity       -0.023265  0.137111   -0.012290     0.025356 -0.007094   \n",
       "\n",
       "                  time_signature  audio_valence  popularity  \n",
       "song_popularity         0.034983      -0.052895    0.699048  \n",
       "song_duration_ms        0.000264      -0.063421    0.003494  \n",
       "acousticness           -0.157177      -0.121670   -0.106483  \n",
       "danceability            0.136391       0.332014    0.107519  \n",
       "energy                  0.146265       0.316742    0.040548  \n",
       "instrumentalness       -0.069181      -0.178570   -0.160144  \n",
       "key                    -0.008282       0.025356   -0.030251  \n",
       "liveness                0.013289       0.013789   -0.023265  \n",
       "loudness                0.119241       0.199696    0.137111  \n",
       "audio_mode             -0.024042      -0.004558   -0.012290  \n",
       "speechiness             0.057162       0.011046    0.025356  \n",
       "tempo                   0.003978       0.037667   -0.007094  \n",
       "time_signature          1.000000       0.094670    0.032462  \n",
       "audio_valence           0.094670       1.000000   -0.019643  \n",
       "popularity              0.032462      -0.019643    1.000000  "
      ]
     },
     "execution_count": 87,
     "metadata": {},
     "output_type": "execute_result"
    }
   ],
   "source": [
    "song_data.corr()"
   ]
  },
  {
   "cell_type": "code",
   "execution_count": 88,
   "metadata": {
    "_kg_hide-input": true
   },
   "outputs": [
    {
     "data": {
      "image/png": "[encoded data removed]",
      "text/plain": [
       "<Figure size 864x864 with 2 Axes>"
      ]
     },
     "metadata": {
      "needs_background": "light"
     },
     "output_type": "display_data"
    }
   ],
   "source": [
    "f,ax = plt.subplots(figsize=(12, 12))\n",
    "mask = np.zeros_like(song_data.corr())\n",
    "mask[np.triu_indices_from(mask)] = True\n",
    "sns.heatmap(song_data.corr(), annot=True, linewidths=0.4,linecolor=\"white\", fmt= '.1f',ax=ax,cmap=\"Blues\",mask=mask)\n",
    "plt.show() "
   ]
  },
  {
   "cell_type": "markdown",
   "metadata": {},
   "source": [
    "- Correlation between loudness and energy is 0.8 which is strong and correlation between loudness and accusticness is 0.6 which is moderate. Except two of them all the correlations are quite low. When we compare the correlation between song_popularity and all other features, we don't see a strong correlation (a linear relationship) that gives us a clear information about popularity. Accusticness,danceability and loudness seems to have correlation with popularity feature(0.10) and istrumentalness has 0.20."
   ]
  },
  {
   "cell_type": "markdown",
   "metadata": {},
   "source": [
    "## Categorical Variable Analysis"
   ]
  },
  {
   "cell_type": "code",
   "execution_count": 89,
   "metadata": {
    "_kg_hide-input": true
   },
   "outputs": [],
   "source": [
    "def bar_plot(variable):\n",
    "    \n",
    "    var=song_data[variable]\n",
    "    var_value= var.value_counts()\n",
    "    \n",
    "    #visualize\n",
    "    plt.figure(figsize=(9,3))\n",
    "    plt.bar(var_value.index,var_value,color=\"orange\")\n",
    "    plt.xticks(var_value.index,var_value.index.values)\n",
    "    plt.ylabel(\"Frequency\")\n",
    "    plt.title(variable)\n",
    "    plt.show()\n",
    "    print(\"{}:\\n{}\".format(variable,var_value))\n"
   ]
  },
  {
   "cell_type": "code",
   "execution_count": 20,
   "metadata": {
    "_kg_hide-input": true
   },
   "outputs": [
    {
     "data": {
      "image/png": "[encoded data removed]",
      "text/plain": [
       "<Figure size 648x216 with 1 Axes>"
      ]
     },
     "metadata": {
      "needs_background": "light"
     },
     "output_type": "display_data"
    },
    {
     "name": "stdout",
     "output_type": "stream",
     "text": [
      "popularity:\n",
      "0    13386\n",
      "1     5449\n",
      "Name: popularity, dtype: int64\n"
     ]
    },
    {
     "data": {
      "image/png": "[encoded data removed]",
      "text/plain": [
       "<Figure size 648x216 with 1 Axes>"
      ]
     },
     "metadata": {
      "needs_background": "light"
     },
     "output_type": "display_data"
    },
    {
     "name": "stdout",
     "output_type": "stream",
     "text": [
      "key:\n",
      "0     2182\n",
      "1     2164\n",
      "7     2032\n",
      "2     1715\n",
      "9     1698\n",
      "11    1600\n",
      "5     1574\n",
      "6     1351\n",
      "8     1349\n",
      "10    1331\n",
      "4     1327\n",
      "3      512\n",
      "Name: key, dtype: int64\n"
     ]
    },
    {
     "data": {
      "image/png": "[encoded data removed]",
      "text/plain": [
       "<Figure size 648x216 with 1 Axes>"
      ]
     },
     "metadata": {
      "needs_background": "light"
     },
     "output_type": "display_data"
    },
    {
     "name": "stdout",
     "output_type": "stream",
     "text": [
      "audio_mode:\n",
      "1.0    11831\n",
      "0.0     7004\n",
      "Name: audio_mode, dtype: int64\n"
     ]
    },
    {
     "data": {
      "image/png": "[encoded data removed]",
      "text/plain": [
       "<Figure size 648x216 with 1 Axes>"
      ]
     },
     "metadata": {
      "needs_background": "light"
     },
     "output_type": "display_data"
    },
    {
     "name": "stdout",
     "output_type": "stream",
     "text": [
      "time_signature:\n",
      "4.0    17754\n",
      "3.0      772\n",
      "5.0      233\n",
      "1.0       73\n",
      "0.0        3\n",
      "Name: time_signature, dtype: int64\n"
     ]
    }
   ],
   "source": [
    "category1 = [\"popularity\",\"key\",\"audio_mode\",\"time_signature\"]\n",
    "for c in category1:\n",
    "    bar_plot(c)"
   ]
  },
  {
   "cell_type": "markdown",
   "metadata": {},
   "source": [
    "## Basic Data Analysis"
   ]
  },
  {
   "cell_type": "code",
   "execution_count": 90,
   "metadata": {},
   "outputs": [
    {
     "data": {
      "text/html": [
       "<div>\n",
       "<style scoped>\n",
       "    .dataframe tbody tr th:only-of-type {\n",
       "        vertical-align: middle;\n",
       "    }\n",
       "\n",
       "    .dataframe tbody tr th {\n",
       "        vertical-align: top;\n",
       "    }\n",
       "\n",
       "    .dataframe thead th {\n",
       "        text-align: right;\n",
       "    }\n",
       "</style>\n",
       "<table border=\"1\" class=\"dataframe\">\n",
       "  <thead>\n",
       "    <tr style=\"text-align: right;\">\n",
       "      <th></th>\n",
       "      <th>key</th>\n",
       "      <th>popularity</th>\n",
       "    </tr>\n",
       "  </thead>\n",
       "  <tbody>\n",
       "    <tr>\n",
       "      <th>1</th>\n",
       "      <td>1</td>\n",
       "      <td>0.356285</td>\n",
       "    </tr>\n",
       "    <tr>\n",
       "      <th>6</th>\n",
       "      <td>6</td>\n",
       "      <td>0.321984</td>\n",
       "    </tr>\n",
       "    <tr>\n",
       "      <th>0</th>\n",
       "      <td>0</td>\n",
       "      <td>0.303850</td>\n",
       "    </tr>\n",
       "    <tr>\n",
       "      <th>5</th>\n",
       "      <td>5</td>\n",
       "      <td>0.300508</td>\n",
       "    </tr>\n",
       "    <tr>\n",
       "      <th>11</th>\n",
       "      <td>11</td>\n",
       "      <td>0.293750</td>\n",
       "    </tr>\n",
       "    <tr>\n",
       "      <th>8</th>\n",
       "      <td>8</td>\n",
       "      <td>0.292068</td>\n",
       "    </tr>\n",
       "    <tr>\n",
       "      <th>4</th>\n",
       "      <td>4</td>\n",
       "      <td>0.284853</td>\n",
       "    </tr>\n",
       "    <tr>\n",
       "      <th>10</th>\n",
       "      <td>10</td>\n",
       "      <td>0.280992</td>\n",
       "    </tr>\n",
       "    <tr>\n",
       "      <th>2</th>\n",
       "      <td>2</td>\n",
       "      <td>0.265889</td>\n",
       "    </tr>\n",
       "    <tr>\n",
       "      <th>9</th>\n",
       "      <td>9</td>\n",
       "      <td>0.253828</td>\n",
       "    </tr>\n",
       "    <tr>\n",
       "      <th>7</th>\n",
       "      <td>7</td>\n",
       "      <td>0.241634</td>\n",
       "    </tr>\n",
       "    <tr>\n",
       "      <th>3</th>\n",
       "      <td>3</td>\n",
       "      <td>0.220703</td>\n",
       "    </tr>\n",
       "  </tbody>\n",
       "</table>\n",
       "</div>"
      ],
      "text/plain": [
       "    key  popularity\n",
       "1     1    0.356285\n",
       "6     6    0.321984\n",
       "0     0    0.303850\n",
       "5     5    0.300508\n",
       "11   11    0.293750\n",
       "8     8    0.292068\n",
       "4     4    0.284853\n",
       "10   10    0.280992\n",
       "2     2    0.265889\n",
       "9     9    0.253828\n",
       "7     7    0.241634\n",
       "3     3    0.220703"
      ]
     },
     "execution_count": 90,
     "metadata": {},
     "output_type": "execute_result"
    }
   ],
   "source": [
    "# key vs popularity\n",
    "song_data[[\"key\",\"popularity\"]].groupby([\"key\"], as_index = False).mean().sort_values(by=\"popularity\",ascending = False)"
   ]
  },
  {
   "cell_type": "code",
   "execution_count": 91,
   "metadata": {},
   "outputs": [
    {
     "data": {
      "text/html": [
       "<div>\n",
       "<style scoped>\n",
       "    .dataframe tbody tr th:only-of-type {\n",
       "        vertical-align: middle;\n",
       "    }\n",
       "\n",
       "    .dataframe tbody tr th {\n",
       "        vertical-align: top;\n",
       "    }\n",
       "\n",
       "    .dataframe thead th {\n",
       "        text-align: right;\n",
       "    }\n",
       "</style>\n",
       "<table border=\"1\" class=\"dataframe\">\n",
       "  <thead>\n",
       "    <tr style=\"text-align: right;\">\n",
       "      <th></th>\n",
       "      <th>audio_mode</th>\n",
       "      <th>popularity</th>\n",
       "    </tr>\n",
       "  </thead>\n",
       "  <tbody>\n",
       "    <tr>\n",
       "      <th>0</th>\n",
       "      <td>0.0</td>\n",
       "      <td>0.296545</td>\n",
       "    </tr>\n",
       "    <tr>\n",
       "      <th>1</th>\n",
       "      <td>1.0</td>\n",
       "      <td>0.285014</td>\n",
       "    </tr>\n",
       "  </tbody>\n",
       "</table>\n",
       "</div>"
      ],
      "text/plain": [
       "   audio_mode  popularity\n",
       "0         0.0    0.296545\n",
       "1         1.0    0.285014"
      ]
     },
     "execution_count": 91,
     "metadata": {},
     "output_type": "execute_result"
    }
   ],
   "source": [
    "# audio_mode vs popularity\n",
    "song_data[[\"audio_mode\",\"popularity\"]].groupby([\"audio_mode\"], as_index = False).mean().sort_values(by=\"popularity\",ascending = False)"
   ]
  },
  {
   "cell_type": "code",
   "execution_count": 92,
   "metadata": {},
   "outputs": [
    {
     "data": {
      "text/html": [
       "<div>\n",
       "<style scoped>\n",
       "    .dataframe tbody tr th:only-of-type {\n",
       "        vertical-align: middle;\n",
       "    }\n",
       "\n",
       "    .dataframe tbody tr th {\n",
       "        vertical-align: top;\n",
       "    }\n",
       "\n",
       "    .dataframe thead th {\n",
       "        text-align: right;\n",
       "    }\n",
       "</style>\n",
       "<table border=\"1\" class=\"dataframe\">\n",
       "  <thead>\n",
       "    <tr style=\"text-align: right;\">\n",
       "      <th></th>\n",
       "      <th>time_signature</th>\n",
       "      <th>popularity</th>\n",
       "    </tr>\n",
       "  </thead>\n",
       "  <tbody>\n",
       "    <tr>\n",
       "      <th>4</th>\n",
       "      <td>5.0</td>\n",
       "      <td>0.304721</td>\n",
       "    </tr>\n",
       "    <tr>\n",
       "      <th>3</th>\n",
       "      <td>4.0</td>\n",
       "      <td>0.292497</td>\n",
       "    </tr>\n",
       "    <tr>\n",
       "      <th>2</th>\n",
       "      <td>3.0</td>\n",
       "      <td>0.222798</td>\n",
       "    </tr>\n",
       "    <tr>\n",
       "      <th>1</th>\n",
       "      <td>1.0</td>\n",
       "      <td>0.178082</td>\n",
       "    </tr>\n",
       "    <tr>\n",
       "      <th>0</th>\n",
       "      <td>0.0</td>\n",
       "      <td>0.000000</td>\n",
       "    </tr>\n",
       "  </tbody>\n",
       "</table>\n",
       "</div>"
      ],
      "text/plain": [
       "   time_signature  popularity\n",
       "4             5.0    0.304721\n",
       "3             4.0    0.292497\n",
       "2             3.0    0.222798\n",
       "1             1.0    0.178082\n",
       "0             0.0    0.000000"
      ]
     },
     "execution_count": 92,
     "metadata": {},
     "output_type": "execute_result"
    }
   ],
   "source": [
    "# time_signature vs popularity\n",
    "song_data[[\"time_signature\",\"popularity\"]].groupby([\"time_signature\"], as_index = False).mean().sort_values(by=\"popularity\",ascending = False)"
   ]
  },
  {
   "cell_type": "code",
   "execution_count": 93,
   "metadata": {},
   "outputs": [],
   "source": [
    "from collections import Counter\n",
    "def detect_outliers(df,features):\n",
    "    outlier_indices = []\n",
    "    \n",
    "    for c in features:\n",
    "        # 1st quartile\n",
    "        Q1 = np.percentile(df[c],25)\n",
    "        # 3rd quartile\n",
    "        Q3 = np.percentile(df[c],75)\n",
    "        # IQR\n",
    "        IQR = Q3 - Q1\n",
    "        # Outlier step\n",
    "        outlier_step = IQR * 1.5\n",
    "        # detect outlier and their indeces\n",
    "        outlier_list_col = df[(df[c] < Q1 - outlier_step) | (df[c] > Q3 + outlier_step)].index #filtre\n",
    "        # store indeces\n",
    "        outlier_indices.extend(outlier_list_col) #The extend() extends the list by adding all items of a list (passed as an argument) to the end.\n",
    "    \n",
    "    outlier_indices = Counter(outlier_indices)\n",
    "    multiple_outliers = list(i for i, v in outlier_indices.items() if v > 2) \n",
    "    \n",
    "    return multiple_outliers"
   ]
  },
  {
   "cell_type": "code",
   "execution_count": 26,
   "metadata": {},
   "outputs": [
    {
     "data": {
      "text/html": [
       "<div>\n",
       "<style scoped>\n",
       "    .dataframe tbody tr th:only-of-type {\n",
       "        vertical-align: middle;\n",
       "    }\n",
       "\n",
       "    .dataframe tbody tr th {\n",
       "        vertical-align: top;\n",
       "    }\n",
       "\n",
       "    .dataframe thead th {\n",
       "        text-align: right;\n",
       "    }\n",
       "</style>\n",
       "<table border=\"1\" class=\"dataframe\">\n",
       "  <thead>\n",
       "    <tr style=\"text-align: right;\">\n",
       "      <th></th>\n",
       "      <th>song_name</th>\n",
       "      <th>song_popularity</th>\n",
       "      <th>song_duration_ms</th>\n",
       "      <th>acousticness</th>\n",
       "      <th>danceability</th>\n",
       "      <th>energy</th>\n",
       "      <th>instrumentalness</th>\n",
       "      <th>key</th>\n",
       "      <th>liveness</th>\n",
       "      <th>loudness</th>\n",
       "      <th>audio_mode</th>\n",
       "      <th>speechiness</th>\n",
       "      <th>tempo</th>\n",
       "      <th>time_signature</th>\n",
       "      <th>audio_valence</th>\n",
       "      <th>popularity</th>\n",
       "    </tr>\n",
       "  </thead>\n",
       "  <tbody>\n",
       "    <tr>\n",
       "      <th>232</th>\n",
       "      <td>La Maza</td>\n",
       "      <td>58</td>\n",
       "      <td>351400.0</td>\n",
       "      <td>0.6520</td>\n",
       "      <td>0.555</td>\n",
       "      <td>0.331</td>\n",
       "      <td>0.000012</td>\n",
       "      <td>9</td>\n",
       "      <td>0.235</td>\n",
       "      <td>-17.718</td>\n",
       "      <td>0.0</td>\n",
       "      <td>0.2700</td>\n",
       "      <td>170.603</td>\n",
       "      <td>3.0</td>\n",
       "      <td>0.437</td>\n",
       "      <td>0</td>\n",
       "    </tr>\n",
       "    <tr>\n",
       "      <th>253</th>\n",
       "      <td>Whole Lotta Love</td>\n",
       "      <td>77</td>\n",
       "      <td>333893.0</td>\n",
       "      <td>0.0484</td>\n",
       "      <td>0.412</td>\n",
       "      <td>0.902</td>\n",
       "      <td>0.131000</td>\n",
       "      <td>9</td>\n",
       "      <td>0.405</td>\n",
       "      <td>-11.600</td>\n",
       "      <td>1.0</td>\n",
       "      <td>0.4050</td>\n",
       "      <td>89.740</td>\n",
       "      <td>4.0</td>\n",
       "      <td>0.422</td>\n",
       "      <td>1</td>\n",
       "    </tr>\n",
       "    <tr>\n",
       "      <th>501</th>\n",
       "      <td>Do You Feel Like We Do</td>\n",
       "      <td>48</td>\n",
       "      <td>836666.0</td>\n",
       "      <td>0.0439</td>\n",
       "      <td>0.295</td>\n",
       "      <td>0.568</td>\n",
       "      <td>0.011700</td>\n",
       "      <td>0</td>\n",
       "      <td>0.977</td>\n",
       "      <td>-8.232</td>\n",
       "      <td>1.0</td>\n",
       "      <td>0.0284</td>\n",
       "      <td>98.284</td>\n",
       "      <td>4.0</td>\n",
       "      <td>0.384</td>\n",
       "      <td>0</td>\n",
       "    </tr>\n",
       "    <tr>\n",
       "      <th>981</th>\n",
       "      <td>The Times They Are A-Changin' - Live at Sony M...</td>\n",
       "      <td>49</td>\n",
       "      <td>348560.0</td>\n",
       "      <td>0.6300</td>\n",
       "      <td>0.393</td>\n",
       "      <td>0.416</td>\n",
       "      <td>0.007910</td>\n",
       "      <td>9</td>\n",
       "      <td>0.986</td>\n",
       "      <td>-13.243</td>\n",
       "      <td>1.0</td>\n",
       "      <td>0.0401</td>\n",
       "      <td>163.604</td>\n",
       "      <td>3.0</td>\n",
       "      <td>0.512</td>\n",
       "      <td>0</td>\n",
       "    </tr>\n",
       "    <tr>\n",
       "      <th>1113</th>\n",
       "      <td>November Rain</td>\n",
       "      <td>38</td>\n",
       "      <td>537506.0</td>\n",
       "      <td>0.0165</td>\n",
       "      <td>0.197</td>\n",
       "      <td>0.629</td>\n",
       "      <td>0.279000</td>\n",
       "      <td>11</td>\n",
       "      <td>0.125</td>\n",
       "      <td>-9.291</td>\n",
       "      <td>1.0</td>\n",
       "      <td>0.0300</td>\n",
       "      <td>79.495</td>\n",
       "      <td>4.0</td>\n",
       "      <td>0.221</td>\n",
       "      <td>0</td>\n",
       "    </tr>\n",
       "    <tr>\n",
       "      <th>...</th>\n",
       "      <td>...</td>\n",
       "      <td>...</td>\n",
       "      <td>...</td>\n",
       "      <td>...</td>\n",
       "      <td>...</td>\n",
       "      <td>...</td>\n",
       "      <td>...</td>\n",
       "      <td>...</td>\n",
       "      <td>...</td>\n",
       "      <td>...</td>\n",
       "      <td>...</td>\n",
       "      <td>...</td>\n",
       "      <td>...</td>\n",
       "      <td>...</td>\n",
       "      <td>...</td>\n",
       "      <td>...</td>\n",
       "    </tr>\n",
       "    <tr>\n",
       "      <th>15247</th>\n",
       "      <td>I Know You So Well</td>\n",
       "      <td>8</td>\n",
       "      <td>102661.0</td>\n",
       "      <td>0.9230</td>\n",
       "      <td>0.679</td>\n",
       "      <td>0.311</td>\n",
       "      <td>0.721000</td>\n",
       "      <td>0</td>\n",
       "      <td>0.813</td>\n",
       "      <td>-16.557</td>\n",
       "      <td>0.0</td>\n",
       "      <td>0.1050</td>\n",
       "      <td>60.724</td>\n",
       "      <td>4.0</td>\n",
       "      <td>0.304</td>\n",
       "      <td>0</td>\n",
       "    </tr>\n",
       "    <tr>\n",
       "      <th>16642</th>\n",
       "      <td>same stars</td>\n",
       "      <td>46</td>\n",
       "      <td>116918.0</td>\n",
       "      <td>0.2510</td>\n",
       "      <td>0.687</td>\n",
       "      <td>0.284</td>\n",
       "      <td>0.862000</td>\n",
       "      <td>0</td>\n",
       "      <td>0.496</td>\n",
       "      <td>-19.504</td>\n",
       "      <td>1.0</td>\n",
       "      <td>0.0378</td>\n",
       "      <td>115.996</td>\n",
       "      <td>4.0</td>\n",
       "      <td>0.159</td>\n",
       "      <td>0</td>\n",
       "    </tr>\n",
       "    <tr>\n",
       "      <th>17723</th>\n",
       "      <td>Dutch Spring</td>\n",
       "      <td>0</td>\n",
       "      <td>205623.0</td>\n",
       "      <td>0.1960</td>\n",
       "      <td>0.510</td>\n",
       "      <td>0.843</td>\n",
       "      <td>0.135000</td>\n",
       "      <td>6</td>\n",
       "      <td>0.569</td>\n",
       "      <td>-4.958</td>\n",
       "      <td>0.0</td>\n",
       "      <td>0.3910</td>\n",
       "      <td>83.355</td>\n",
       "      <td>4.0</td>\n",
       "      <td>0.832</td>\n",
       "      <td>0</td>\n",
       "    </tr>\n",
       "    <tr>\n",
       "      <th>3720</th>\n",
       "      <td>Racism And Injustice</td>\n",
       "      <td>21</td>\n",
       "      <td>260160.0</td>\n",
       "      <td>0.9220</td>\n",
       "      <td>0.650</td>\n",
       "      <td>0.316</td>\n",
       "      <td>0.000000</td>\n",
       "      <td>9</td>\n",
       "      <td>0.739</td>\n",
       "      <td>-18.244</td>\n",
       "      <td>0.0</td>\n",
       "      <td>0.9400</td>\n",
       "      <td>117.198</td>\n",
       "      <td>4.0</td>\n",
       "      <td>0.306</td>\n",
       "      <td>0</td>\n",
       "    </tr>\n",
       "    <tr>\n",
       "      <th>3752</th>\n",
       "      <td>Space Program</td>\n",
       "      <td>0</td>\n",
       "      <td>156480.0</td>\n",
       "      <td>0.8690</td>\n",
       "      <td>0.589</td>\n",
       "      <td>0.604</td>\n",
       "      <td>0.000002</td>\n",
       "      <td>4</td>\n",
       "      <td>0.684</td>\n",
       "      <td>-18.562</td>\n",
       "      <td>0.0</td>\n",
       "      <td>0.9410</td>\n",
       "      <td>111.968</td>\n",
       "      <td>4.0</td>\n",
       "      <td>0.197</td>\n",
       "      <td>0</td>\n",
       "    </tr>\n",
       "  </tbody>\n",
       "</table>\n",
       "<p>325 rows × 16 columns</p>\n",
       "</div>"
      ],
      "text/plain": [
       "                                               song_name  song_popularity  \\\n",
       "232                                              La Maza               58   \n",
       "253                                     Whole Lotta Love               77   \n",
       "501                               Do You Feel Like We Do               48   \n",
       "981    The Times They Are A-Changin' - Live at Sony M...               49   \n",
       "1113                                       November Rain               38   \n",
       "...                                                  ...              ...   \n",
       "15247                                 I Know You So Well                8   \n",
       "16642                                         same stars               46   \n",
       "17723                                       Dutch Spring                0   \n",
       "3720                                Racism And Injustice               21   \n",
       "3752                                       Space Program                0   \n",
       "\n",
       "       song_duration_ms  acousticness  danceability  energy  instrumentalness  \\\n",
       "232            351400.0        0.6520         0.555   0.331          0.000012   \n",
       "253            333893.0        0.0484         0.412   0.902          0.131000   \n",
       "501            836666.0        0.0439         0.295   0.568          0.011700   \n",
       "981            348560.0        0.6300         0.393   0.416          0.007910   \n",
       "1113           537506.0        0.0165         0.197   0.629          0.279000   \n",
       "...                 ...           ...           ...     ...               ...   \n",
       "15247          102661.0        0.9230         0.679   0.311          0.721000   \n",
       "16642          116918.0        0.2510         0.687   0.284          0.862000   \n",
       "17723          205623.0        0.1960         0.510   0.843          0.135000   \n",
       "3720           260160.0        0.9220         0.650   0.316          0.000000   \n",
       "3752           156480.0        0.8690         0.589   0.604          0.000002   \n",
       "\n",
       "       key  liveness  loudness  audio_mode  speechiness    tempo  \\\n",
       "232      9     0.235   -17.718         0.0       0.2700  170.603   \n",
       "253      9     0.405   -11.600         1.0       0.4050   89.740   \n",
       "501      0     0.977    -8.232         1.0       0.0284   98.284   \n",
       "981      9     0.986   -13.243         1.0       0.0401  163.604   \n",
       "1113    11     0.125    -9.291         1.0       0.0300   79.495   \n",
       "...    ...       ...       ...         ...          ...      ...   \n",
       "15247    0     0.813   -16.557         0.0       0.1050   60.724   \n",
       "16642    0     0.496   -19.504         1.0       0.0378  115.996   \n",
       "17723    6     0.569    -4.958         0.0       0.3910   83.355   \n",
       "3720     9     0.739   -18.244         0.0       0.9400  117.198   \n",
       "3752     4     0.684   -18.562         0.0       0.9410  111.968   \n",
       "\n",
       "       time_signature  audio_valence  popularity  \n",
       "232               3.0          0.437           0  \n",
       "253               4.0          0.422           1  \n",
       "501               4.0          0.384           0  \n",
       "981               3.0          0.512           0  \n",
       "1113              4.0          0.221           0  \n",
       "...               ...            ...         ...  \n",
       "15247             4.0          0.304           0  \n",
       "16642             4.0          0.159           0  \n",
       "17723             4.0          0.832           0  \n",
       "3720              4.0          0.306           0  \n",
       "3752              4.0          0.197           0  \n",
       "\n",
       "[325 rows x 16 columns]"
      ]
     },
     "execution_count": 26,
     "metadata": {},
     "output_type": "execute_result"
    }
   ],
   "source": [
    "song_data.loc[detect_outliers(song_data,[\"song_popularity\",\"song_duration_ms\",\"danceability\",\"energy\",\"instrumentalness\",\"liveness\",\"loudness\",\"speechiness\",\"audio_valence\"])]"
   ]
  },
  {
   "cell_type": "code",
   "execution_count": 94,
   "metadata": {},
   "outputs": [],
   "source": [
    "# drop outliers\n",
    "song_data = song_data.drop(detect_outliers(song_data,[\"song_popularity\",\"song_duration_ms\",\"danceability\",\"energy\",\"instrumentalness\",\"liveness\",\"loudness\",\"speechiness\",\"audio_valence\"]),axis = 0).reset_index(drop = True)"
   ]
  },
  {
   "cell_type": "code",
   "execution_count": 95,
   "metadata": {},
   "outputs": [
    {
     "data": {
      "text/html": [
       "<div>\n",
       "<style scoped>\n",
       "    .dataframe tbody tr th:only-of-type {\n",
       "        vertical-align: middle;\n",
       "    }\n",
       "\n",
       "    .dataframe tbody tr th {\n",
       "        vertical-align: top;\n",
       "    }\n",
       "\n",
       "    .dataframe thead th {\n",
       "        text-align: right;\n",
       "    }\n",
       "</style>\n",
       "<table border=\"1\" class=\"dataframe\">\n",
       "  <thead>\n",
       "    <tr style=\"text-align: right;\">\n",
       "      <th></th>\n",
       "      <th>song_name</th>\n",
       "      <th>song_popularity</th>\n",
       "      <th>song_duration_ms</th>\n",
       "      <th>acousticness</th>\n",
       "      <th>danceability</th>\n",
       "      <th>energy</th>\n",
       "      <th>instrumentalness</th>\n",
       "      <th>key</th>\n",
       "      <th>liveness</th>\n",
       "      <th>loudness</th>\n",
       "      <th>audio_mode</th>\n",
       "      <th>speechiness</th>\n",
       "      <th>tempo</th>\n",
       "      <th>time_signature</th>\n",
       "      <th>audio_valence</th>\n",
       "      <th>popularity</th>\n",
       "    </tr>\n",
       "  </thead>\n",
       "  <tbody>\n",
       "  </tbody>\n",
       "</table>\n",
       "</div>"
      ],
      "text/plain": [
       "Empty DataFrame\n",
       "Columns: [song_name, song_popularity, song_duration_ms, acousticness, danceability, energy, instrumentalness, key, liveness, loudness, audio_mode, speechiness, tempo, time_signature, audio_valence, popularity]\n",
       "Index: []"
      ]
     },
     "execution_count": 95,
     "metadata": {},
     "output_type": "execute_result"
    }
   ],
   "source": [
    "song_data[song_data[\"audio_mode\"].isnull()]"
   ]
  },
  {
   "cell_type": "code",
   "execution_count": 96,
   "metadata": {
    "_kg_hide-input": true
   },
   "outputs": [
    {
     "data": {
      "image/png": "[encoded data removed]",
      "text/plain": [
       "<Figure size 432x432 with 1 Axes>"
      ]
     },
     "metadata": {
      "needs_background": "light"
     },
     "output_type": "display_data"
    }
   ],
   "source": [
    "g = sns.factorplot(x = \"key\", y = \"popularity\", data = song_data, kind = \"bar\", size = 6)\n",
    "g.set_ylabels(\"Popularity Probability\")\n",
    "plt.show()"
   ]
  },
  {
   "cell_type": "code",
   "execution_count": 21,
   "metadata": {
    "_kg_hide-input": true
   },
   "outputs": [
    {
     "data": {
      "image/png": "[encoded data removed]",
      "text/plain": [
       "<Figure size 432x432 with 1 Axes>"
      ]
     },
     "metadata": {
      "needs_background": "light"
     },
     "output_type": "display_data"
    }
   ],
   "source": [
    "g = sns.factorplot(x = \"audio_mode\", y = \"popularity\", data = song_data, kind = \"bar\", size = 6)\n",
    "g.set_ylabels(\"Popularity Probability\")\n",
    "plt.show()"
   ]
  },
  {
   "cell_type": "code",
   "execution_count": 97,
   "metadata": {
    "_kg_hide-input": true
   },
   "outputs": [
    {
     "data": {
      "image/png": "[encoded data removed]",
      "text/plain": [
       "<Figure size 432x432 with 1 Axes>"
      ]
     },
     "metadata": {
      "needs_background": "light"
     },
     "output_type": "display_data"
    }
   ],
   "source": [
    "g = sns.factorplot(x = \"time_signature\", y = \"popularity\", data = song_data, kind = \"bar\", size = 6)\n",
    "g.set_ylabels(\"Popularity Probability\")\n",
    "plt.show()"
   ]
  },
  {
   "cell_type": "code",
   "execution_count": 98,
   "metadata": {
    "_kg_hide-input": true
   },
   "outputs": [
    {
     "data": {
      "image/png": "[encoded data removed]",
      "text/plain": [
       "<Figure size 584x576 with 4 Axes>"
      ]
     },
     "metadata": {
      "needs_background": "light"
     },
     "output_type": "display_data"
    }
   ],
   "source": [
    "g = sns.FacetGrid(song_data, row = \"audio_mode\", col = \"popularity\", size = 4)\n",
    "g.map(sns.barplot, \"key\", \"acousticness\")\n",
    "g.add_legend()\n",
    "plt.show()"
   ]
  },
  {
   "cell_type": "code",
   "execution_count": 99,
   "metadata": {
    "_kg_hide-input": true
   },
   "outputs": [
    {
     "data": {
      "image/png": "[encoded data removed]",
      "text/plain": [
       "<Figure size 584x576 with 4 Axes>"
      ]
     },
     "metadata": {
      "needs_background": "light"
     },
     "output_type": "display_data"
    }
   ],
   "source": [
    "g = sns.FacetGrid(song_data, row = \"audio_mode\", col = \"popularity\", size = 4)\n",
    "g.map(sns.barplot, \"key\", \"danceability\",color=\"purple\")\n",
    "g.add_legend()\n",
    "plt.show()"
   ]
  },
  {
   "cell_type": "code",
   "execution_count": 23,
   "metadata": {
    "_kg_hide-input": true
   },
   "outputs": [
    {
     "data": {
      "image/png": "[encoded data removed]",
      "text/plain": [
       "<Figure size 584x576 with 4 Axes>"
      ]
     },
     "metadata": {
      "needs_background": "light"
     },
     "output_type": "display_data"
    }
   ],
   "source": [
    "g = sns.FacetGrid(song_data, row = \"audio_mode\", col = \"popularity\", size = 4)\n",
    "g.map(sns.barplot, \"key\", \"instrumentalness\",color=\"green\")\n",
    "g.add_legend()\n",
    "plt.show()"
   ]
  },
  {
   "cell_type": "code",
   "execution_count": 100,
   "metadata": {
    "_kg_hide-input": true
   },
   "outputs": [
    {
     "data": {
      "image/png": "[encoded data removed]",
      "text/plain": [
       "<Figure size 584x576 with 4 Axes>"
      ]
     },
     "metadata": {
      "needs_background": "light"
     },
     "output_type": "display_data"
    }
   ],
   "source": [
    "g = sns.FacetGrid(song_data, row = \"audio_mode\", col = \"popularity\", size = 4)\n",
    "g.map(sns.barplot, \"key\", \"loudness\",color=\"orange\")\n",
    "g.add_legend()\n",
    "plt.show()"
   ]
  },
  {
   "cell_type": "markdown",
   "metadata": {},
   "source": [
    "> ## Features Distribution\n"
   ]
  },
  {
   "cell_type": "code",
   "execution_count": 103,
   "metadata": {
    "_kg_hide-input": true
   },
   "outputs": [
    {
     "data": {
      "image/png": "[encoded data removed]",
      "text/plain": [
       "<Figure size 864x864 with 14 Axes>"
      ]
     },
     "metadata": {
      "needs_background": "light"
     },
     "output_type": "display_data"
    }
   ],
   "source": [
    "f, axes = plt.subplots(3, 5, figsize=(12, 12))\n",
    "sns.distplot( song_data[\"song_duration_ms\"] , color=\"teal\", ax=axes[0, 0])\n",
    "sns.distplot( song_data[\"instrumentalness\"] , color=\"teal\", ax=axes[0, 1])\n",
    "sns.distplot( song_data[\"acousticness\"] , color=\"teal\", ax=axes[0, 2])\n",
    "sns.distplot( song_data[\"danceability\"] , color=\"teal\", ax=axes[0, 3])\n",
    "sns.distplot( song_data[\"energy\"] , color=\"teal\", ax=axes[0, 4])\n",
    "sns.distplot( song_data[\"song_popularity\"] , color=\"teal\", ax=axes[1, 0])\n",
    "sns.distplot( song_data[\"key\"] , color=\"teal\", ax=axes[1, 1])\n",
    "sns.distplot( song_data[\"liveness\"] , color=\"teal\", ax=axes[1, 2])\n",
    "sns.distplot( song_data[\"loudness\"] , color=\"teal\", ax=axes[1, 3])\n",
    "sns.distplot( song_data[\"audio_mode\"] , color=\"teal\", ax=axes[1, 4])\n",
    "sns.distplot( song_data[\"tempo\"] , color=\"teal\", ax=axes[2, 0])\n",
    "sns.distplot( song_data[\"speechiness\"] , color=\"teal\", ax=axes[2, 1])\n",
    "sns.distplot( song_data[\"time_signature\"] , color=\"teal\", ax=axes[2, 2])\n",
    "sns.distplot( song_data[\"audio_valence\"] , color=\"teal\", ax=axes[2, 3])\n",
    "f.delaxes(axes[2][4])\n",
    "plt.show()"
   ]
  },
  {
   "cell_type": "code",
   "execution_count": 104,
   "metadata": {
    "_kg_hide-input": true
   },
   "outputs": [
    {
     "data": {
      "image/png": "[encoded data removed]",
      "text/plain": [
       "<Figure size 432x216 with 2 Axes>"
      ]
     },
     "metadata": {
      "needs_background": "light"
     },
     "output_type": "display_data"
    }
   ],
   "source": [
    "g = sns.FacetGrid(song_data, col = \"popularity\")\n",
    "g.map(sns.distplot, \"acousticness\", bins = 25)\n",
    "plt.show()"
   ]
  },
  {
   "cell_type": "code",
   "execution_count": 105,
   "metadata": {
    "_kg_hide-input": true
   },
   "outputs": [
    {
     "data": {
      "image/png": "[encoded data removed]",
      "text/plain": [
       "<Figure size 432x216 with 2 Axes>"
      ]
     },
     "metadata": {
      "needs_background": "light"
     },
     "output_type": "display_data"
    }
   ],
   "source": [
    "g = sns.FacetGrid(song_data, col = \"popularity\")\n",
    "g.map(sns.distplot, \"danceability\", bins = 25)\n",
    "plt.show()"
   ]
  },
  {
   "cell_type": "code",
   "execution_count": 106,
   "metadata": {
    "_kg_hide-input": true
   },
   "outputs": [
    {
     "data": {
      "image/png": "[encoded data removed]",
      "text/plain": [
       "<Figure size 432x216 with 2 Axes>"
      ]
     },
     "metadata": {
      "needs_background": "light"
     },
     "output_type": "display_data"
    }
   ],
   "source": [
    "g = sns.FacetGrid(song_data, col = \"popularity\")\n",
    "g.map(sns.distplot, \"loudness\", bins = 25)\n",
    "plt.show()"
   ]
  },
  {
   "cell_type": "code",
   "execution_count": 107,
   "metadata": {
    "_kg_hide-input": true
   },
   "outputs": [
    {
     "data": {
      "image/png": "[encoded data removed]",
      "text/plain": [
       "<Figure size 432x216 with 2 Axes>"
      ]
     },
     "metadata": {
      "needs_background": "light"
     },
     "output_type": "display_data"
    }
   ],
   "source": [
    "g = sns.FacetGrid(song_data, col = \"popularity\")\n",
    "g.map(sns.distplot, \"instrumentalness\", bins = 25)\n",
    "plt.show()"
   ]
  },
  {
   "cell_type": "markdown",
   "metadata": {},
   "source": [
    "- Data distribution of songs display today's songs features like dancebility, energy, loudness and tempo are quite high. People like fast and loud music.\n",
    "- According to instrumentalness, liveness and speechness, most of the songs are not live performances and they have lyrics.\n",
    "- Keys like 0,1,5,6 and 11 seems more effective in songs. And if key== 0 or 1 or 6 song has more chance to be populer.\n",
    "- Time_signure is mostly 4 and 5 in both populer and general data.\n",
    "- If danceability>0.6 song has more chance to be popular.\n",
    "- If loudness > -10 song has more chance to be popular.\n"
   ]
  },
  {
   "cell_type": "markdown",
   "metadata": {},
   "source": [
    "> ## People like Happy Songs or Sad Songs?\n",
    "- As we see in the feature explanations, audio valance describes the musical positiveness conveyed by a track (like sad or happiness - between 0 to 1). We supposed our threshold is 0.5.\n",
    "- With this threshold we have happy songs more in the general data and the numbers are pretty close in the popular songs, but when we looked at top 500, we can say that negative songs are twice as much as positives."
   ]
  },
  {
   "cell_type": "markdown",
   "metadata": {},
   "source": [
    "**All Songs**"
   ]
  },
  {
   "cell_type": "code",
   "execution_count": 108,
   "metadata": {
    "_kg_hide-input": true
   },
   "outputs": [
    {
     "data": {
      "text/plain": [
       "Happy    10047\n",
       "Sad       8463\n",
       "Name: song_audio_valence, dtype: int64"
      ]
     },
     "execution_count": 108,
     "metadata": {},
     "output_type": "execute_result"
    }
   ],
   "source": [
    "song_data3=song_data.copy()\n",
    "song_data3[\"song_audio_valence\"]= [ \"Happy\" if i>=0.5 else \"Sad\" for i in song_data.audio_valence ]\n",
    "song_data3[\"song_audio_valence\"].value_counts()"
   ]
  },
  {
   "cell_type": "markdown",
   "metadata": {},
   "source": [
    "**Populer Songs**"
   ]
  },
  {
   "cell_type": "code",
   "execution_count": 109,
   "metadata": {
    "_kg_hide-input": true
   },
   "outputs": [
    {
     "data": {
      "text/plain": [
       "Happy    2845\n",
       "Sad      2574\n",
       "Name: song_audio_valence, dtype: int64"
      ]
     },
     "execution_count": 109,
     "metadata": {},
     "output_type": "execute_result"
    }
   ],
   "source": [
    "song_data1=song_data3[song_data3[\"song_popularity\"]>66.5]\n",
    "song_data1[\"song_audio_valence\"]= [ \"Happy\" if i>=0.5 else \"Sad\" for i in song_data1.audio_valence ]\n",
    "song_data1[\"song_audio_valence\"].value_counts()"
   ]
  },
  {
   "cell_type": "markdown",
   "metadata": {},
   "source": [
    "**Top 500**"
   ]
  },
  {
   "cell_type": "code",
   "execution_count": 110,
   "metadata": {
    "_kg_hide-input": true
   },
   "outputs": [
    {
     "data": {
      "text/plain": [
       "Sad      332\n",
       "Happy    167\n",
       "Name: song_audio_valence, dtype: int64"
      ]
     },
     "execution_count": 110,
     "metadata": {},
     "output_type": "execute_result"
    }
   ],
   "source": [
    "song_data2_new=song_data1[song_data1[\"song_popularity\"]>90]\n",
    "song_data2_new[\"song_audio_valence\"]= [ \"Happy\" if i>=0.5 else \"Sad\" for i in song_data2_new.audio_valence ]\n",
    "song_data2_new[\"song_audio_valence\"].value_counts()"
   ]
  },
  {
   "cell_type": "code",
   "execution_count": 44,
   "metadata": {
    "_kg_hide-input": true
   },
   "outputs": [
    {
     "data": {
      "image/png": "[encoded data removed]",
      "text/plain": [
       "<Figure size 576x576 with 1 Axes>"
      ]
     },
     "metadata": {
      "needs_background": "light"
     },
     "output_type": "display_data"
    }
   ],
   "source": [
    "song_data2= song_data2_new[song_data2_new.popularity==1]\n",
    "a=song_data2.iloc[:,1]\n",
    "a.to_numpy()\n",
    "b=song_data2.iloc[:,14]\n",
    "b.to_numpy()\n",
    "plt.figure(figsize=[8,8])\n",
    "markerline, stemlines, baseline = plt.stem(\n",
    "    a, b, linefmt='grey', markerfmt='D', bottom=0.5)\n",
    "markerline.set_markerfacecolor('none')\n",
    "plt.xlabel(\"Popularity\")\n",
    "plt.ylabel(\"Audio Valance\")\n",
    "plt.show()"
   ]
  },
  {
   "cell_type": "code",
   "execution_count": 111,
   "metadata": {
    "_kg_hide-input": true
   },
   "outputs": [],
   "source": [
    "new_data = pd.concat([song_info, song_data1],axis=1)\n",
    "new_data=new_data[new_data[\"song_popularity\"]>90]"
   ]
  },
  {
   "cell_type": "code",
   "execution_count": 112,
   "metadata": {
    "_kg_hide-input": true
   },
   "outputs": [
    {
     "data": {
      "image/png": "[encoded data removed]",
      "text/plain": [
       "<Figure size 864x360 with 1 Axes>"
      ]
     },
     "metadata": {
      "needs_background": "light"
     },
     "output_type": "display_data"
    }
   ],
   "source": [
    "# Top 500 Playlists Gender\n",
    "plt.figure(figsize=(12,5))\n",
    "new_data= song_info['playlist'].head(500)\n",
    "g = sns.countplot(new_data, palette=\"icefire\")\n",
    "plt.title(\"Top 500 Genres\")\n",
    "plt.show()"
   ]
  },
  {
   "cell_type": "markdown",
   "metadata": {},
   "source": [
    "- 60's and 70's rock music seems more popular in this data."
   ]
  },
  {
   "cell_type": "markdown",
   "metadata": {},
   "source": [
    " <a id=\"3c\"></a> \n",
    "## Feature Engineering"
   ]
  },
  {
   "cell_type": "code",
   "execution_count": 113,
   "metadata": {},
   "outputs": [
    {
     "data": {
      "text/plain": [
       "0    13386\n",
       "1     5449\n",
       "Name: popularity, dtype: int64"
      ]
     },
     "execution_count": 113,
     "metadata": {},
     "output_type": "execute_result"
    }
   ],
   "source": [
    "spotify_song_data[\"popularity\"]= [ 1 if i>=66.5 else 0 for i in spotify_song_data.song_popularity ]\n",
    "spotify_song_data[\"popularity\"].value_counts()"
   ]
  },
  {
   "cell_type": "code",
   "execution_count": 114,
   "metadata": {},
   "outputs": [
    {
     "data": {
      "text/html": [
       "<div>\n",
       "<style scoped>\n",
       "    .dataframe tbody tr th:only-of-type {\n",
       "        vertical-align: middle;\n",
       "    }\n",
       "\n",
       "    .dataframe tbody tr th {\n",
       "        vertical-align: top;\n",
       "    }\n",
       "\n",
       "    .dataframe thead th {\n",
       "        text-align: right;\n",
       "    }\n",
       "</style>\n",
       "<table border=\"1\" class=\"dataframe\">\n",
       "  <thead>\n",
       "    <tr style=\"text-align: right;\">\n",
       "      <th></th>\n",
       "      <th>popularity</th>\n",
       "      <th>song_name</th>\n",
       "    </tr>\n",
       "  </thead>\n",
       "  <tbody>\n",
       "    <tr>\n",
       "      <th>0</th>\n",
       "      <td>1</td>\n",
       "      <td>Boulevard of Broken Dreams</td>\n",
       "    </tr>\n",
       "    <tr>\n",
       "      <th>1</th>\n",
       "      <td>0</td>\n",
       "      <td>In The End</td>\n",
       "    </tr>\n",
       "    <tr>\n",
       "      <th>2</th>\n",
       "      <td>1</td>\n",
       "      <td>Seven Nation Army</td>\n",
       "    </tr>\n",
       "    <tr>\n",
       "      <th>3</th>\n",
       "      <td>1</td>\n",
       "      <td>By The Way</td>\n",
       "    </tr>\n",
       "    <tr>\n",
       "      <th>4</th>\n",
       "      <td>0</td>\n",
       "      <td>How You Remind Me</td>\n",
       "    </tr>\n",
       "  </tbody>\n",
       "</table>\n",
       "</div>"
      ],
      "text/plain": [
       "   popularity                   song_name\n",
       "0           1  Boulevard of Broken Dreams\n",
       "1           0                  In The End\n",
       "2           1           Seven Nation Army\n",
       "3           1                  By The Way\n",
       "4           0           How You Remind Me"
      ]
     },
     "execution_count": 114,
     "metadata": {},
     "output_type": "execute_result"
    }
   ],
   "source": [
    "data_plr = pd.concat([spotify_song_data.popularity,spotify_song_data.song_name],axis=1)\n",
    "data_plr.head()"
   ]
  },
  {
   "cell_type": "code",
   "execution_count": 115,
   "metadata": {},
   "outputs": [],
   "source": [
    "song_data['song_name'].value_counts(dropna=False)\n",
    "song_data['song_name'].dropna(inplace=True)"
   ]
  },
  {
   "cell_type": "code",
   "execution_count": 121,
   "metadata": {},
   "outputs": [],
   "source": [
    "df=pd.DataFrame(Song_Name_list,columns=['Names'])"
   ]
  },
  {
   "cell_type": "code",
   "execution_count": 122,
   "metadata": {},
   "outputs": [
    {
     "data": {
      "text/plain": [
       "[('Kanye West', 82),\n",
       " ('Lady Gaga', 78),\n",
       " ('Drake', 68),\n",
       " ('Khalid', 61),\n",
       " ('Eminem', 47),\n",
       " ('6ix9ine', 45),\n",
       " ('David Guetta', 45),\n",
       " ('Calvin Harris', 40),\n",
       " ('The Chainsmokers', 40),\n",
       " ('Lil Wayne', 39)]"
      ]
     },
     "execution_count": 122,
     "metadata": {},
     "output_type": "execute_result"
    }
   ],
   "source": [
    "artist= song_info.artist_name.tolist()\n",
    "name_count = Counter(artist)         \n",
    "most_common_names2 = name_count.most_common(10) \n",
    "most_common_names2\n"
   ]
  },
  {
   "cell_type": "code",
   "execution_count": 124,
   "metadata": {},
   "outputs": [
    {
     "data": {
      "text/html": [
       "<div>\n",
       "<style scoped>\n",
       "    .dataframe tbody tr th:only-of-type {\n",
       "        vertical-align: middle;\n",
       "    }\n",
       "\n",
       "    .dataframe tbody tr th {\n",
       "        vertical-align: top;\n",
       "    }\n",
       "\n",
       "    .dataframe thead th {\n",
       "        text-align: right;\n",
       "    }\n",
       "</style>\n",
       "<table border=\"1\" class=\"dataframe\">\n",
       "  <thead>\n",
       "    <tr style=\"text-align: right;\">\n",
       "      <th></th>\n",
       "      <th>popularity</th>\n",
       "      <th>song_name</th>\n",
       "    </tr>\n",
       "  </thead>\n",
       "  <tbody>\n",
       "    <tr>\n",
       "      <th>0</th>\n",
       "      <td>1</td>\n",
       "      <td>Boulevard of Broken Dreams</td>\n",
       "    </tr>\n",
       "    <tr>\n",
       "      <th>1</th>\n",
       "      <td>0</td>\n",
       "      <td>In The End</td>\n",
       "    </tr>\n",
       "    <tr>\n",
       "      <th>2</th>\n",
       "      <td>1</td>\n",
       "      <td>Seven Nation Army</td>\n",
       "    </tr>\n",
       "    <tr>\n",
       "      <th>3</th>\n",
       "      <td>1</td>\n",
       "      <td>By The Way</td>\n",
       "    </tr>\n",
       "    <tr>\n",
       "      <th>4</th>\n",
       "      <td>0</td>\n",
       "      <td>How You Remind Me</td>\n",
       "    </tr>\n",
       "  </tbody>\n",
       "</table>\n",
       "</div>"
      ],
      "text/plain": [
       "   popularity                   song_name\n",
       "0           1  Boulevard of Broken Dreams\n",
       "1           0                  In The End\n",
       "2           1           Seven Nation Army\n",
       "3           1                  By The Way\n",
       "4           0           How You Remind Me"
      ]
     },
     "execution_count": 124,
     "metadata": {},
     "output_type": "execute_result"
    }
   ],
   "source": [
    "data_plr.head()"
   ]
  },
  {
   "cell_type": "code",
   "execution_count": 128,
   "metadata": {},
   "outputs": [
    {
     "data": {
      "text/html": [
       "<div>\n",
       "<style scoped>\n",
       "    .dataframe tbody tr th:only-of-type {\n",
       "        vertical-align: middle;\n",
       "    }\n",
       "\n",
       "    .dataframe tbody tr th {\n",
       "        vertical-align: top;\n",
       "    }\n",
       "\n",
       "    .dataframe thead th {\n",
       "        text-align: right;\n",
       "    }\n",
       "</style>\n",
       "<table border=\"1\" class=\"dataframe\">\n",
       "  <thead>\n",
       "    <tr style=\"text-align: right;\">\n",
       "      <th></th>\n",
       "      <th>song_name</th>\n",
       "      <th>song_popularity</th>\n",
       "      <th>song_duration_ms</th>\n",
       "      <th>acousticness</th>\n",
       "      <th>danceability</th>\n",
       "      <th>energy</th>\n",
       "      <th>instrumentalness</th>\n",
       "      <th>liveness</th>\n",
       "      <th>loudness</th>\n",
       "      <th>audio_mode</th>\n",
       "      <th>...</th>\n",
       "      <th>key_2</th>\n",
       "      <th>key_3</th>\n",
       "      <th>key_4</th>\n",
       "      <th>key_5</th>\n",
       "      <th>key_6</th>\n",
       "      <th>key_7</th>\n",
       "      <th>key_8</th>\n",
       "      <th>key_9</th>\n",
       "      <th>key_10</th>\n",
       "      <th>key_11</th>\n",
       "    </tr>\n",
       "  </thead>\n",
       "  <tbody>\n",
       "    <tr>\n",
       "      <th>0</th>\n",
       "      <td>Boulevard of Broken Dreams</td>\n",
       "      <td>73</td>\n",
       "      <td>262333.0</td>\n",
       "      <td>0.005520</td>\n",
       "      <td>0.496</td>\n",
       "      <td>0.682</td>\n",
       "      <td>0.000029</td>\n",
       "      <td>0.0589</td>\n",
       "      <td>-4.095</td>\n",
       "      <td>1.0</td>\n",
       "      <td>...</td>\n",
       "      <td>0</td>\n",
       "      <td>0</td>\n",
       "      <td>0</td>\n",
       "      <td>0</td>\n",
       "      <td>0</td>\n",
       "      <td>0</td>\n",
       "      <td>1</td>\n",
       "      <td>0</td>\n",
       "      <td>0</td>\n",
       "      <td>0</td>\n",
       "    </tr>\n",
       "    <tr>\n",
       "      <th>1</th>\n",
       "      <td>In The End</td>\n",
       "      <td>66</td>\n",
       "      <td>216933.0</td>\n",
       "      <td>0.010300</td>\n",
       "      <td>0.542</td>\n",
       "      <td>0.853</td>\n",
       "      <td>0.000000</td>\n",
       "      <td>0.1080</td>\n",
       "      <td>-6.407</td>\n",
       "      <td>0.0</td>\n",
       "      <td>...</td>\n",
       "      <td>0</td>\n",
       "      <td>1</td>\n",
       "      <td>0</td>\n",
       "      <td>0</td>\n",
       "      <td>0</td>\n",
       "      <td>0</td>\n",
       "      <td>0</td>\n",
       "      <td>0</td>\n",
       "      <td>0</td>\n",
       "      <td>0</td>\n",
       "    </tr>\n",
       "    <tr>\n",
       "      <th>2</th>\n",
       "      <td>Seven Nation Army</td>\n",
       "      <td>76</td>\n",
       "      <td>231733.0</td>\n",
       "      <td>0.008170</td>\n",
       "      <td>0.737</td>\n",
       "      <td>0.463</td>\n",
       "      <td>0.447000</td>\n",
       "      <td>0.2550</td>\n",
       "      <td>-7.828</td>\n",
       "      <td>1.0</td>\n",
       "      <td>...</td>\n",
       "      <td>0</td>\n",
       "      <td>0</td>\n",
       "      <td>0</td>\n",
       "      <td>0</td>\n",
       "      <td>0</td>\n",
       "      <td>0</td>\n",
       "      <td>0</td>\n",
       "      <td>0</td>\n",
       "      <td>0</td>\n",
       "      <td>0</td>\n",
       "    </tr>\n",
       "    <tr>\n",
       "      <th>3</th>\n",
       "      <td>By The Way</td>\n",
       "      <td>74</td>\n",
       "      <td>216933.0</td>\n",
       "      <td>0.026400</td>\n",
       "      <td>0.451</td>\n",
       "      <td>0.970</td>\n",
       "      <td>0.003550</td>\n",
       "      <td>0.1020</td>\n",
       "      <td>-4.938</td>\n",
       "      <td>1.0</td>\n",
       "      <td>...</td>\n",
       "      <td>0</td>\n",
       "      <td>0</td>\n",
       "      <td>0</td>\n",
       "      <td>0</td>\n",
       "      <td>0</td>\n",
       "      <td>0</td>\n",
       "      <td>0</td>\n",
       "      <td>0</td>\n",
       "      <td>0</td>\n",
       "      <td>0</td>\n",
       "    </tr>\n",
       "    <tr>\n",
       "      <th>4</th>\n",
       "      <td>How You Remind Me</td>\n",
       "      <td>56</td>\n",
       "      <td>223826.0</td>\n",
       "      <td>0.000954</td>\n",
       "      <td>0.447</td>\n",
       "      <td>0.766</td>\n",
       "      <td>0.000000</td>\n",
       "      <td>0.1130</td>\n",
       "      <td>-5.065</td>\n",
       "      <td>1.0</td>\n",
       "      <td>...</td>\n",
       "      <td>0</td>\n",
       "      <td>0</td>\n",
       "      <td>0</td>\n",
       "      <td>0</td>\n",
       "      <td>0</td>\n",
       "      <td>0</td>\n",
       "      <td>0</td>\n",
       "      <td>0</td>\n",
       "      <td>1</td>\n",
       "      <td>0</td>\n",
       "    </tr>\n",
       "  </tbody>\n",
       "</table>\n",
       "<p>5 rows × 27 columns</p>\n",
       "</div>"
      ],
      "text/plain": [
       "                    song_name  song_popularity  song_duration_ms  \\\n",
       "0  Boulevard of Broken Dreams               73          262333.0   \n",
       "1                  In The End               66          216933.0   \n",
       "2           Seven Nation Army               76          231733.0   \n",
       "3                  By The Way               74          216933.0   \n",
       "4           How You Remind Me               56          223826.0   \n",
       "\n",
       "   acousticness  danceability  energy  instrumentalness  liveness  loudness  \\\n",
       "0      0.005520         0.496   0.682          0.000029    0.0589    -4.095   \n",
       "1      0.010300         0.542   0.853          0.000000    0.1080    -6.407   \n",
       "2      0.008170         0.737   0.463          0.447000    0.2550    -7.828   \n",
       "3      0.026400         0.451   0.970          0.003550    0.1020    -4.938   \n",
       "4      0.000954         0.447   0.766          0.000000    0.1130    -5.065   \n",
       "\n",
       "   audio_mode  ...  key_2  key_3  key_4  key_5  key_6  key_7  key_8  key_9  \\\n",
       "0         1.0  ...      0      0      0      0      0      0      1      0   \n",
       "1         0.0  ...      0      1      0      0      0      0      0      0   \n",
       "2         1.0  ...      0      0      0      0      0      0      0      0   \n",
       "3         1.0  ...      0      0      0      0      0      0      0      0   \n",
       "4         1.0  ...      0      0      0      0      0      0      0      0   \n",
       "\n",
       "   key_10  key_11  \n",
       "0       0       0  \n",
       "1       0       0  \n",
       "2       0       0  \n",
       "3       0       0  \n",
       "4       1       0  \n",
       "\n",
       "[5 rows x 27 columns]"
      ]
     },
     "execution_count": 128,
     "metadata": {},
     "output_type": "execute_result"
    }
   ],
   "source": [
    "song_data[\"key\"] = song_data[\"key\"].astype(\"category\")\n",
    "song_data = pd.get_dummies(song_data, columns=[\"key\"])\n",
    "song_data.head()"
   ]
  },
  {
   "cell_type": "code",
   "execution_count": 129,
   "metadata": {},
   "outputs": [
    {
     "data": {
      "text/html": [
       "<div>\n",
       "<style scoped>\n",
       "    .dataframe tbody tr th:only-of-type {\n",
       "        vertical-align: middle;\n",
       "    }\n",
       "\n",
       "    .dataframe tbody tr th {\n",
       "        vertical-align: top;\n",
       "    }\n",
       "\n",
       "    .dataframe thead th {\n",
       "        text-align: right;\n",
       "    }\n",
       "</style>\n",
       "<table border=\"1\" class=\"dataframe\">\n",
       "  <thead>\n",
       "    <tr style=\"text-align: right;\">\n",
       "      <th></th>\n",
       "      <th>song_name</th>\n",
       "      <th>song_popularity</th>\n",
       "      <th>song_duration_ms</th>\n",
       "      <th>acousticness</th>\n",
       "      <th>danceability</th>\n",
       "      <th>energy</th>\n",
       "      <th>instrumentalness</th>\n",
       "      <th>liveness</th>\n",
       "      <th>loudness</th>\n",
       "      <th>speechiness</th>\n",
       "      <th>...</th>\n",
       "      <th>key_4</th>\n",
       "      <th>key_5</th>\n",
       "      <th>key_6</th>\n",
       "      <th>key_7</th>\n",
       "      <th>key_8</th>\n",
       "      <th>key_9</th>\n",
       "      <th>key_10</th>\n",
       "      <th>key_11</th>\n",
       "      <th>audio_mode_0.0</th>\n",
       "      <th>audio_mode_1.0</th>\n",
       "    </tr>\n",
       "  </thead>\n",
       "  <tbody>\n",
       "    <tr>\n",
       "      <th>0</th>\n",
       "      <td>Boulevard of Broken Dreams</td>\n",
       "      <td>73</td>\n",
       "      <td>262333.0</td>\n",
       "      <td>0.005520</td>\n",
       "      <td>0.496</td>\n",
       "      <td>0.682</td>\n",
       "      <td>0.000029</td>\n",
       "      <td>0.0589</td>\n",
       "      <td>-4.095</td>\n",
       "      <td>0.0294</td>\n",
       "      <td>...</td>\n",
       "      <td>0</td>\n",
       "      <td>0</td>\n",
       "      <td>0</td>\n",
       "      <td>0</td>\n",
       "      <td>1</td>\n",
       "      <td>0</td>\n",
       "      <td>0</td>\n",
       "      <td>0</td>\n",
       "      <td>0</td>\n",
       "      <td>1</td>\n",
       "    </tr>\n",
       "    <tr>\n",
       "      <th>1</th>\n",
       "      <td>In The End</td>\n",
       "      <td>66</td>\n",
       "      <td>216933.0</td>\n",
       "      <td>0.010300</td>\n",
       "      <td>0.542</td>\n",
       "      <td>0.853</td>\n",
       "      <td>0.000000</td>\n",
       "      <td>0.1080</td>\n",
       "      <td>-6.407</td>\n",
       "      <td>0.0498</td>\n",
       "      <td>...</td>\n",
       "      <td>0</td>\n",
       "      <td>0</td>\n",
       "      <td>0</td>\n",
       "      <td>0</td>\n",
       "      <td>0</td>\n",
       "      <td>0</td>\n",
       "      <td>0</td>\n",
       "      <td>0</td>\n",
       "      <td>1</td>\n",
       "      <td>0</td>\n",
       "    </tr>\n",
       "    <tr>\n",
       "      <th>2</th>\n",
       "      <td>Seven Nation Army</td>\n",
       "      <td>76</td>\n",
       "      <td>231733.0</td>\n",
       "      <td>0.008170</td>\n",
       "      <td>0.737</td>\n",
       "      <td>0.463</td>\n",
       "      <td>0.447000</td>\n",
       "      <td>0.2550</td>\n",
       "      <td>-7.828</td>\n",
       "      <td>0.0792</td>\n",
       "      <td>...</td>\n",
       "      <td>0</td>\n",
       "      <td>0</td>\n",
       "      <td>0</td>\n",
       "      <td>0</td>\n",
       "      <td>0</td>\n",
       "      <td>0</td>\n",
       "      <td>0</td>\n",
       "      <td>0</td>\n",
       "      <td>0</td>\n",
       "      <td>1</td>\n",
       "    </tr>\n",
       "    <tr>\n",
       "      <th>3</th>\n",
       "      <td>By The Way</td>\n",
       "      <td>74</td>\n",
       "      <td>216933.0</td>\n",
       "      <td>0.026400</td>\n",
       "      <td>0.451</td>\n",
       "      <td>0.970</td>\n",
       "      <td>0.003550</td>\n",
       "      <td>0.1020</td>\n",
       "      <td>-4.938</td>\n",
       "      <td>0.1070</td>\n",
       "      <td>...</td>\n",
       "      <td>0</td>\n",
       "      <td>0</td>\n",
       "      <td>0</td>\n",
       "      <td>0</td>\n",
       "      <td>0</td>\n",
       "      <td>0</td>\n",
       "      <td>0</td>\n",
       "      <td>0</td>\n",
       "      <td>0</td>\n",
       "      <td>1</td>\n",
       "    </tr>\n",
       "    <tr>\n",
       "      <th>4</th>\n",
       "      <td>How You Remind Me</td>\n",
       "      <td>56</td>\n",
       "      <td>223826.0</td>\n",
       "      <td>0.000954</td>\n",
       "      <td>0.447</td>\n",
       "      <td>0.766</td>\n",
       "      <td>0.000000</td>\n",
       "      <td>0.1130</td>\n",
       "      <td>-5.065</td>\n",
       "      <td>0.0313</td>\n",
       "      <td>...</td>\n",
       "      <td>0</td>\n",
       "      <td>0</td>\n",
       "      <td>0</td>\n",
       "      <td>0</td>\n",
       "      <td>0</td>\n",
       "      <td>0</td>\n",
       "      <td>1</td>\n",
       "      <td>0</td>\n",
       "      <td>0</td>\n",
       "      <td>1</td>\n",
       "    </tr>\n",
       "  </tbody>\n",
       "</table>\n",
       "<p>5 rows × 28 columns</p>\n",
       "</div>"
      ],
      "text/plain": [
       "                    song_name  song_popularity  song_duration_ms  \\\n",
       "0  Boulevard of Broken Dreams               73          262333.0   \n",
       "1                  In The End               66          216933.0   \n",
       "2           Seven Nation Army               76          231733.0   \n",
       "3                  By The Way               74          216933.0   \n",
       "4           How You Remind Me               56          223826.0   \n",
       "\n",
       "   acousticness  danceability  energy  instrumentalness  liveness  loudness  \\\n",
       "0      0.005520         0.496   0.682          0.000029    0.0589    -4.095   \n",
       "1      0.010300         0.542   0.853          0.000000    0.1080    -6.407   \n",
       "2      0.008170         0.737   0.463          0.447000    0.2550    -7.828   \n",
       "3      0.026400         0.451   0.970          0.003550    0.1020    -4.938   \n",
       "4      0.000954         0.447   0.766          0.000000    0.1130    -5.065   \n",
       "\n",
       "   speechiness  ...  key_4  key_5  key_6  key_7  key_8  key_9  key_10  key_11  \\\n",
       "0       0.0294  ...      0      0      0      0      1      0       0       0   \n",
       "1       0.0498  ...      0      0      0      0      0      0       0       0   \n",
       "2       0.0792  ...      0      0      0      0      0      0       0       0   \n",
       "3       0.1070  ...      0      0      0      0      0      0       0       0   \n",
       "4       0.0313  ...      0      0      0      0      0      0       1       0   \n",
       "\n",
       "   audio_mode_0.0  audio_mode_1.0  \n",
       "0               0               1  \n",
       "1               1               0  \n",
       "2               0               1  \n",
       "3               0               1  \n",
       "4               0               1  \n",
       "\n",
       "[5 rows x 28 columns]"
      ]
     },
     "execution_count": 129,
     "metadata": {},
     "output_type": "execute_result"
    }
   ],
   "source": [
    "song_data[\"audio_mode\"] = song_data[\"audio_mode\"].astype(\"category\")\n",
    "song_data = pd.get_dummies(song_data, columns=[\"audio_mode\"])\n",
    "song_data.head()"
   ]
  },
  {
   "cell_type": "code",
   "execution_count": 130,
   "metadata": {},
   "outputs": [
    {
     "data": {
      "text/html": [
       "<div>\n",
       "<style scoped>\n",
       "    .dataframe tbody tr th:only-of-type {\n",
       "        vertical-align: middle;\n",
       "    }\n",
       "\n",
       "    .dataframe tbody tr th {\n",
       "        vertical-align: top;\n",
       "    }\n",
       "\n",
       "    .dataframe thead th {\n",
       "        text-align: right;\n",
       "    }\n",
       "</style>\n",
       "<table border=\"1\" class=\"dataframe\">\n",
       "  <thead>\n",
       "    <tr style=\"text-align: right;\">\n",
       "      <th></th>\n",
       "      <th>song_name</th>\n",
       "      <th>song_popularity</th>\n",
       "      <th>song_duration_ms</th>\n",
       "      <th>acousticness</th>\n",
       "      <th>danceability</th>\n",
       "      <th>energy</th>\n",
       "      <th>instrumentalness</th>\n",
       "      <th>liveness</th>\n",
       "      <th>loudness</th>\n",
       "      <th>speechiness</th>\n",
       "      <th>...</th>\n",
       "      <th>key_9</th>\n",
       "      <th>key_10</th>\n",
       "      <th>key_11</th>\n",
       "      <th>audio_mode_0.0</th>\n",
       "      <th>audio_mode_1.0</th>\n",
       "      <th>time_signature_0.0</th>\n",
       "      <th>time_signature_1.0</th>\n",
       "      <th>time_signature_3.0</th>\n",
       "      <th>time_signature_4.0</th>\n",
       "      <th>time_signature_5.0</th>\n",
       "    </tr>\n",
       "  </thead>\n",
       "  <tbody>\n",
       "    <tr>\n",
       "      <th>0</th>\n",
       "      <td>Boulevard of Broken Dreams</td>\n",
       "      <td>73</td>\n",
       "      <td>262333.0</td>\n",
       "      <td>0.005520</td>\n",
       "      <td>0.496</td>\n",
       "      <td>0.682</td>\n",
       "      <td>0.000029</td>\n",
       "      <td>0.0589</td>\n",
       "      <td>-4.095</td>\n",
       "      <td>0.0294</td>\n",
       "      <td>...</td>\n",
       "      <td>0</td>\n",
       "      <td>0</td>\n",
       "      <td>0</td>\n",
       "      <td>0</td>\n",
       "      <td>1</td>\n",
       "      <td>0</td>\n",
       "      <td>0</td>\n",
       "      <td>0</td>\n",
       "      <td>1</td>\n",
       "      <td>0</td>\n",
       "    </tr>\n",
       "    <tr>\n",
       "      <th>1</th>\n",
       "      <td>In The End</td>\n",
       "      <td>66</td>\n",
       "      <td>216933.0</td>\n",
       "      <td>0.010300</td>\n",
       "      <td>0.542</td>\n",
       "      <td>0.853</td>\n",
       "      <td>0.000000</td>\n",
       "      <td>0.1080</td>\n",
       "      <td>-6.407</td>\n",
       "      <td>0.0498</td>\n",
       "      <td>...</td>\n",
       "      <td>0</td>\n",
       "      <td>0</td>\n",
       "      <td>0</td>\n",
       "      <td>1</td>\n",
       "      <td>0</td>\n",
       "      <td>0</td>\n",
       "      <td>0</td>\n",
       "      <td>0</td>\n",
       "      <td>1</td>\n",
       "      <td>0</td>\n",
       "    </tr>\n",
       "    <tr>\n",
       "      <th>2</th>\n",
       "      <td>Seven Nation Army</td>\n",
       "      <td>76</td>\n",
       "      <td>231733.0</td>\n",
       "      <td>0.008170</td>\n",
       "      <td>0.737</td>\n",
       "      <td>0.463</td>\n",
       "      <td>0.447000</td>\n",
       "      <td>0.2550</td>\n",
       "      <td>-7.828</td>\n",
       "      <td>0.0792</td>\n",
       "      <td>...</td>\n",
       "      <td>0</td>\n",
       "      <td>0</td>\n",
       "      <td>0</td>\n",
       "      <td>0</td>\n",
       "      <td>1</td>\n",
       "      <td>0</td>\n",
       "      <td>0</td>\n",
       "      <td>0</td>\n",
       "      <td>1</td>\n",
       "      <td>0</td>\n",
       "    </tr>\n",
       "    <tr>\n",
       "      <th>3</th>\n",
       "      <td>By The Way</td>\n",
       "      <td>74</td>\n",
       "      <td>216933.0</td>\n",
       "      <td>0.026400</td>\n",
       "      <td>0.451</td>\n",
       "      <td>0.970</td>\n",
       "      <td>0.003550</td>\n",
       "      <td>0.1020</td>\n",
       "      <td>-4.938</td>\n",
       "      <td>0.1070</td>\n",
       "      <td>...</td>\n",
       "      <td>0</td>\n",
       "      <td>0</td>\n",
       "      <td>0</td>\n",
       "      <td>0</td>\n",
       "      <td>1</td>\n",
       "      <td>0</td>\n",
       "      <td>0</td>\n",
       "      <td>0</td>\n",
       "      <td>1</td>\n",
       "      <td>0</td>\n",
       "    </tr>\n",
       "    <tr>\n",
       "      <th>4</th>\n",
       "      <td>How You Remind Me</td>\n",
       "      <td>56</td>\n",
       "      <td>223826.0</td>\n",
       "      <td>0.000954</td>\n",
       "      <td>0.447</td>\n",
       "      <td>0.766</td>\n",
       "      <td>0.000000</td>\n",
       "      <td>0.1130</td>\n",
       "      <td>-5.065</td>\n",
       "      <td>0.0313</td>\n",
       "      <td>...</td>\n",
       "      <td>0</td>\n",
       "      <td>1</td>\n",
       "      <td>0</td>\n",
       "      <td>0</td>\n",
       "      <td>1</td>\n",
       "      <td>0</td>\n",
       "      <td>0</td>\n",
       "      <td>0</td>\n",
       "      <td>1</td>\n",
       "      <td>0</td>\n",
       "    </tr>\n",
       "  </tbody>\n",
       "</table>\n",
       "<p>5 rows × 32 columns</p>\n",
       "</div>"
      ],
      "text/plain": [
       "                    song_name  song_popularity  song_duration_ms  \\\n",
       "0  Boulevard of Broken Dreams               73          262333.0   \n",
       "1                  In The End               66          216933.0   \n",
       "2           Seven Nation Army               76          231733.0   \n",
       "3                  By The Way               74          216933.0   \n",
       "4           How You Remind Me               56          223826.0   \n",
       "\n",
       "   acousticness  danceability  energy  instrumentalness  liveness  loudness  \\\n",
       "0      0.005520         0.496   0.682          0.000029    0.0589    -4.095   \n",
       "1      0.010300         0.542   0.853          0.000000    0.1080    -6.407   \n",
       "2      0.008170         0.737   0.463          0.447000    0.2550    -7.828   \n",
       "3      0.026400         0.451   0.970          0.003550    0.1020    -4.938   \n",
       "4      0.000954         0.447   0.766          0.000000    0.1130    -5.065   \n",
       "\n",
       "   speechiness  ...  key_9  key_10  key_11  audio_mode_0.0  audio_mode_1.0  \\\n",
       "0       0.0294  ...      0       0       0               0               1   \n",
       "1       0.0498  ...      0       0       0               1               0   \n",
       "2       0.0792  ...      0       0       0               0               1   \n",
       "3       0.1070  ...      0       0       0               0               1   \n",
       "4       0.0313  ...      0       1       0               0               1   \n",
       "\n",
       "   time_signature_0.0  time_signature_1.0  time_signature_3.0  \\\n",
       "0                   0                   0                   0   \n",
       "1                   0                   0                   0   \n",
       "2                   0                   0                   0   \n",
       "3                   0                   0                   0   \n",
       "4                   0                   0                   0   \n",
       "\n",
       "   time_signature_4.0  time_signature_5.0  \n",
       "0                   1                   0  \n",
       "1                   1                   0  \n",
       "2                   1                   0  \n",
       "3                   1                   0  \n",
       "4                   1                   0  \n",
       "\n",
       "[5 rows x 32 columns]"
      ]
     },
     "execution_count": 130,
     "metadata": {},
     "output_type": "execute_result"
    }
   ],
   "source": [
    "song_data[\"time_signature\"] = song_data[\"time_signature\"].astype(\"category\")\n",
    "song_data = pd.get_dummies(song_data, columns=[\"time_signature\"])\n",
    "song_data.head()"
   ]
  },
  {
   "cell_type": "markdown",
   "metadata": {},
   "source": [
    "<a id=\"4a\"></a> <br>\n",
    "## Models"
   ]
  },
  {
   "cell_type": "code",
   "execution_count": 131,
   "metadata": {},
   "outputs": [],
   "source": [
    "song_data.drop([\"song_popularity\",\"song_name\"],axis=1,inplace=True)"
   ]
  },
  {
   "cell_type": "code",
   "execution_count": 132,
   "metadata": {},
   "outputs": [
    {
     "data": {
      "text/plain": [
       "Index([], dtype='object')"
      ]
     },
     "execution_count": 132,
     "metadata": {},
     "output_type": "execute_result"
    }
   ],
   "source": [
    "song_data.columns[song_data.isnull().any()]"
   ]
  },
  {
   "cell_type": "code",
   "execution_count": 133,
   "metadata": {},
   "outputs": [],
   "source": [
    "#fill nan values\n",
    "song_data['song_duration_ms'] = song_data['song_duration_ms'].fillna(np.mean(song_data['song_duration_ms']))\n",
    "song_data['acousticness'] = song_data['acousticness'].fillna(np.mean(song_data['acousticness']))\n",
    "song_data['danceability'] = song_data['danceability'].fillna(np.mean(song_data['danceability']))\n",
    "song_data['energy'] = song_data['energy'].fillna(np.mean(song_data['energy']))\n",
    "song_data['instrumentalness'] = song_data['instrumentalness'].fillna(np.mean(song_data['instrumentalness']))\n",
    "song_data['liveness'] = song_data['liveness'].fillna(np.mean(song_data['liveness']))\n",
    "song_data['loudness'] = song_data['loudness'].fillna(np.mean(song_data['loudness']))\n",
    "song_data['speechiness'] = song_data['speechiness'].fillna(np.mean(song_data['speechiness']))\n",
    "song_data['tempo'] = song_data['tempo'].fillna(np.mean(song_data['tempo']))\n",
    "song_data['audio_valence'] = song_data['audio_valence'].fillna(np.mean(song_data['audio_valence']))\n",
    "song_data['popularity'] = song_data['popularity'].fillna(np.mean(song_data['popularity']))"
   ]
  },
  {
   "cell_type": "code",
   "execution_count": 134,
   "metadata": {},
   "outputs": [
    {
     "data": {
      "text/plain": [
       "Index([], dtype='object')"
      ]
     },
     "execution_count": 134,
     "metadata": {},
     "output_type": "execute_result"
    }
   ],
   "source": [
    "song_data.columns[song_data.isnull().any()]"
   ]
  },
  {
   "cell_type": "code",
   "execution_count": 135,
   "metadata": {},
   "outputs": [],
   "source": [
    "def change_type(var):\n",
    "    song_data[var] = song_data[var].astype(int)"
   ]
  },
  {
   "cell_type": "code",
   "execution_count": 136,
   "metadata": {},
   "outputs": [
    {
     "name": "stdout",
     "output_type": "stream",
     "text": [
      "x_train:  (29, 14808)\n",
      "x_test:  (29, 3702)\n",
      "y_train:  (14808,)\n",
      "y_test:  (3702,)\n"
     ]
    }
   ],
   "source": [
    "#data preparation\n",
    "y = song_data[\"popularity\"].values\n",
    "x_data=song_data.drop([\"popularity\"],axis=1)\n",
    "#normalization\n",
    "x = (x_data - np.min(x_data))/(np.max(x_data)-np.min(x_data)).values#train test split\n",
    "from sklearn.model_selection import train_test_split\n",
    "x_train, x_test, y_train, y_test = train_test_split(x,y,test_size = 0.2,random_state=42)\n",
    "x_train = x_train.T\n",
    "x_test = x_test.T\n",
    "y_train = y_train.astype(int).T\n",
    "y_test = y_test.astype(int).T\n",
    "print(\"x_train: \",x_train.shape)\n",
    "print(\"x_test: \",x_test.shape)\n",
    "print(\"y_train: \",y_train.shape)\n",
    "print(\"y_test: \",y_test.shape)"
   ]
  },
  {
   "cell_type": "markdown",
   "metadata": {},
   "source": [
    "<a id=\"6\"></a> <br>\n",
    "**KNN Algorithm**"
   ]
  },
  {
   "cell_type": "code",
   "execution_count": 146,
   "metadata": {
    "_kg_hide-output": true
   },
   "outputs": [
    {
     "name": "stdout",
     "output_type": "stream",
     "text": [
      "Prediction: [1 0 0 ... 0 0 0]\n"
     ]
    }
   ],
   "source": [
    "# KNN prediction\n",
    "from sklearn.neighbors import KNeighborsClassifier\n",
    "knn = KNeighborsClassifier(n_neighbors = 3)\n",
    "x,y = song_data.loc[:,song_data.columns != 'popularity'], song_data.loc[:,'popularity']\n",
    "y=y.astype(int)\n",
    "knn.fit(x,y)\n",
    "prediction = knn.predict(x)\n",
    "print('Prediction: {}'.format(prediction))"
   ]
  },
  {
   "cell_type": "code",
   "execution_count": 147,
   "metadata": {},
   "outputs": [
    {
     "name": "stdout",
     "output_type": "stream",
     "text": [
      "With KNN (K=3) train accuracy is:  0.993989735278228\n",
      "With KNN (K=3) test accuracy is:  0.7947055645596974\n"
     ]
    }
   ],
   "source": [
    "#KNN Test\n",
    "knn = KNeighborsClassifier(n_neighbors = 1)\n",
    "knn.fit(x_train,y_train)\n",
    "prediction = knn.predict(x_test)\n",
    "print('With KNN (K=3) train accuracy is: ',knn.score(x_train,y_train))\n",
    "print('With KNN (K=3) test accuracy is: ',knn.score(x_test,y_test))"
   ]
  },
  {
   "cell_type": "code",
   "execution_count": 163,
   "metadata": {
    "_kg_hide-input": false
   },
   "outputs": [
    {
     "data": {
      "image/png": "[encoded data removed]",
      "text/plain": [
       "<Figure size 720x432 with 1 Axes>"
      ]
     },
     "metadata": {
      "needs_background": "light"
     },
     "output_type": "display_data"
    },
    {
     "name": "stdout",
     "output_type": "stream",
     "text": [
      "Best accuracy is 0.7947055645596974 with K = 1\n"
     ]
    }
   ],
   "source": [
    "neig = np.arange(1, 25)\n",
    "train_accuracy = []\n",
    "test_accuracy = []\n",
    "\n",
    "for i, k in enumerate(neig):\n",
    "    knn = KNeighborsClassifier(n_neighbors=k)\n",
    "    knn.fit(x_train,y_train)\n",
    "    train_accuracy.append(knn.score(x_train, y_train))\n",
    "    test_accuracy.append(knn.score(x_test, y_test))\n",
    "\n",
    "plt.figure(figsize=[10,6])\n",
    "plt.plot(neig, test_accuracy, label = 'Testing Accuracy')\n",
    "plt.plot(neig, train_accuracy, label = 'Training Accuracy')\n",
    "plt.legend()\n",
    "plt.title('Knn k value VS Accuracy')\n",
    "plt.xlabel('Number of Neighbors')\n",
    "plt.ylabel('Accuracy')\n",
    "plt.xticks(neig)\n",
    "plt.savefig('graph.png')\n",
    "plt.show()\n",
    "print(\"Best accuracy is {} with K = {}\".format(np.max(test_accuracy),1+test_accuracy.index(np.max(test_accuracy))))"
   ]
  },
  {
   "cell_type": "code",
   "execution_count": 164,
   "metadata": {},
   "outputs": [
    {
     "name": "stdout",
     "output_type": "stream",
     "text": [
      "Cross_val Scores:  [0.70965564 0.7049291  0.71100608 0.7116813  0.70762998 0.69345037\n",
      " 0.7116813  0.71573261 0.70540541 0.70878378]\n",
      "Cross_val scores average:  0.7079955563260761\n"
     ]
    }
   ],
   "source": [
    "from sklearn.model_selection import cross_val_score\n",
    "k = 10\n",
    "cv_result = cross_val_score(knn,x_train,y_train,cv=k)  \n",
    "cv_result_knn=np.sum(cv_result)/k\n",
    "print('Cross_val Scores: ',cv_result)\n",
    "print('Cross_val scores average: ',np.sum(cv_result)/k)"
   ]
  },
  {
   "cell_type": "code",
   "execution_count": 165,
   "metadata": {},
   "outputs": [
    {
     "name": "stdout",
     "output_type": "stream",
     "text": [
      "Tuned hyperparameter k: {'n_neighbors': 2}\n",
      "Best accuracy: 0.773257698541329\n"
     ]
    }
   ],
   "source": [
    "from sklearn.model_selection import GridSearchCV\n",
    "grid = {'n_neighbors': np.arange(1,50)}\n",
    "knn = KNeighborsClassifier()\n",
    "knn_cv = GridSearchCV(knn, grid, cv=3) \n",
    "knn_cv.fit(x,y)\n",
    "print(\"Tuned hyperparameter k: {}\".format(knn_cv.best_params_)) \n",
    "print(\"Best accuracy: {}\".format(knn_cv.best_score_))"
   ]
  },
  {
   "cell_type": "code",
   "execution_count": 166,
   "metadata": {},
   "outputs": [],
   "source": [
    "KKN_Score= max(test_accuracy)\n",
    "CrossVal_KKN_Score=cv_result_knn"
   ]
  },
  {
   "cell_type": "markdown",
   "metadata": {},
   "source": [
    "<a id=\"7\"></a> <br>\n",
    "**SVM**"
   ]
  },
  {
   "cell_type": "markdown",
   "metadata": {},
   "source": [
    "- SVM is an effective and simple method mostly used in classification problems. The aim of the SVM algorithm is to find a hyperplane in an N-dimensional space (N — the number of features) that distinctly classifies the data points. C and Gamma are the parameters for a nonlinear support vector machine (SVM) with a Gaussian radial basis function kernel."
   ]
  },
  {
   "cell_type": "code",
   "execution_count": 167,
   "metadata": {},
   "outputs": [
    {
     "name": "stdout",
     "output_type": "stream",
     "text": [
      "Train accuracy of svm algo: 0.7071853052404106\n",
      "Test accuracy of svm algo: 0.7074554294975689\n"
     ]
    }
   ],
   "source": [
    "from sklearn.svm import SVC\n",
    "svm= SVC(random_state=1)  #kernel='rbf'\n",
    "svm.fit(x_train,y_train)\n",
    "print(\"Train accuracy of svm algo:\",svm.score(x_train,y_train))\n",
    "print(\"Test accuracy of svm algo:\",svm.score(x_test,y_test))"
   ]
  },
  {
   "cell_type": "code",
   "execution_count": 168,
   "metadata": {},
   "outputs": [
    {
     "name": "stdout",
     "output_type": "stream",
     "text": [
      "Cross_val Scores:  [0.70695476 0.70695476 0.70695476 0.70695476 0.70695476 0.70695476\n",
      " 0.70762998 0.70762998 0.70743243 0.70743243]\n",
      "Cross_val scores average:  0.7071853386134278\n"
     ]
    }
   ],
   "source": [
    "from sklearn.model_selection import cross_val_score\n",
    "k = 10\n",
    "cv_result = cross_val_score(svm,x_train,y_train,cv=k) \n",
    "cv_result_svm= np.sum(cv_result)/k\n",
    "print('Cross_val Scores: ',cv_result)\n",
    "print('Cross_val scores average: ',np.sum(cv_result)/k)"
   ]
  },
  {
   "cell_type": "code",
   "execution_count": 169,
   "metadata": {},
   "outputs": [],
   "source": [
    "SVM_score= svm.score(x_test,y_test)\n",
    "CrossVal_SVM_score=cv_result_svm"
   ]
  },
  {
   "cell_type": "code",
   "execution_count": 170,
   "metadata": {},
   "outputs": [
    {
     "name": "stdout",
     "output_type": "stream",
     "text": [
      "Tuned Model Parameters: {'SVM__C': 100, 'SVM__gamma': 0.1}\n",
      "Test accuracy: 0.7909238249594813\n"
     ]
    }
   ],
   "source": [
    "from sklearn.svm import SVC\n",
    "from sklearn.preprocessing import StandardScaler\n",
    "from sklearn.pipeline import Pipeline\n",
    "\n",
    "steps = [('scalar', StandardScaler()),\n",
    "         ('SVM', SVC())]\n",
    "pipeline = Pipeline(steps)\n",
    "parameters = {'SVM__C':[1, 10, 100],\n",
    "              'SVM__gamma':[0.1, 0.01]}\n",
    "cv = GridSearchCV(pipeline,param_grid=parameters,cv=10)\n",
    "cv.fit(x_train,y_train)\n",
    "y_pred = cv.predict(x_test)\n",
    "\n",
    "print(\"Tuned Model Parameters: {}\".format(cv.best_params_))\n",
    "print(\"Test accuracy: {}\".format(cv.score(x_test, y_test)))"
   ]
  },
  {
   "cell_type": "markdown",
   "metadata": {},
   "source": [
    "<a id=\"9\"></a> <br>\n",
    "**Decision Tree Classifier**"
   ]
  },
  {
   "cell_type": "code",
   "execution_count": 171,
   "metadata": {},
   "outputs": [
    {
     "name": "stdout",
     "output_type": "stream",
     "text": [
      "Train ccuracy of decision tree: 0.9953403565640194\n",
      "Test accuracy of decision tree: 0.8060507833603457\n"
     ]
    }
   ],
   "source": [
    "from sklearn.metrics import accuracy_score,recall_score,precision_score,confusion_matrix,f1_score\n",
    "from sklearn.tree import DecisionTreeClassifier\n",
    "\n",
    "dt= DecisionTreeClassifier()\n",
    "dt.fit(x_train,y_train)\n",
    "y_pred=dt.predict(x_test)\n",
    "DecisionTree_score=dt.score(x_test,y_test)\n",
    "print(\"Train ccuracy of decision tree:\",dt.score(x_train,y_train))\n",
    "print(\"Test accuracy of decision tree:\",dt.score(x_test,y_test))"
   ]
  },
  {
   "cell_type": "code",
   "execution_count": 172,
   "metadata": {},
   "outputs": [
    {
     "name": "stdout",
     "output_type": "stream",
     "text": [
      "Cross_val Scores:  [0.80081026 0.78528022 0.80081026 0.79068197 0.79270763 0.7812289\n",
      " 0.77852802 0.78257934 0.78716216 0.78783784]\n",
      "Cross_val scores average:  0.7887626603646185\n"
     ]
    }
   ],
   "source": [
    "from sklearn.model_selection import cross_val_score\n",
    "k =10\n",
    "cv_result = cross_val_score(dt,x_train,y_train,cv=k) # uses R^2 as score \n",
    "print('Cross_val Scores: ',cv_result)\n",
    "print('Cross_val scores average: ',np.sum(cv_result)/k)"
   ]
  },
  {
   "cell_type": "markdown",
   "metadata": {},
   "source": [
    "<a id=\"12\"></a> <br>\n",
    "## Comparison Of Performance"
   ]
  },
  {
   "cell_type": "code",
   "execution_count": 189,
   "metadata": {
    "_kg_hide-input": true
   },
   "outputs": [
    {
     "data": {
      "text/html": [
       "<div>\n",
       "<style scoped>\n",
       "    .dataframe tbody tr th:only-of-type {\n",
       "        vertical-align: middle;\n",
       "    }\n",
       "\n",
       "    .dataframe tbody tr th {\n",
       "        vertical-align: top;\n",
       "    }\n",
       "\n",
       "    .dataframe thead th {\n",
       "        text-align: right;\n",
       "    }\n",
       "</style>\n",
       "<table border=\"1\" class=\"dataframe\">\n",
       "  <thead>\n",
       "    <tr style=\"text-align: right;\">\n",
       "      <th></th>\n",
       "      <th>Model</th>\n",
       "      <th>Accuracy</th>\n",
       "    </tr>\n",
       "  </thead>\n",
       "  <tbody>\n",
       "    <tr>\n",
       "      <th>1</th>\n",
       "      <td>DesicionTreeClassifier</td>\n",
       "      <td>0.806051</td>\n",
       "    </tr>\n",
       "    <tr>\n",
       "      <th>2</th>\n",
       "      <td>SVM</td>\n",
       "      <td>0.794706</td>\n",
       "    </tr>\n",
       "    <tr>\n",
       "      <th>0</th>\n",
       "      <td>K-NearestNeighbors</td>\n",
       "      <td>0.707455</td>\n",
       "    </tr>\n",
       "  </tbody>\n",
       "</table>\n",
       "</div>"
      ],
      "text/plain": [
       "                    Model  Accuracy\n",
       "1  DesicionTreeClassifier  0.806051\n",
       "2                     SVM  0.794706\n",
       "0      K-NearestNeighbors  0.707455"
      ]
     },
     "execution_count": 189,
     "metadata": {},
     "output_type": "execute_result"
    }
   ],
   "source": [
    "model_performances=pd.DataFrame({'Model':['K-NearestNeighbors','DesicionTreeClassifier','SVM'],\n",
    "                                 'Accuracy':[SVM_score,DecisionTree_score,KKN_Score]})\n",
    "model_performances.sort_values(by = \"Accuracy\",ascending=False)"
   ]
  },
  {
   "cell_type": "code",
   "execution_count": 187,
   "metadata": {
    "_kg_hide-input": true
   },
   "outputs": [
    {
     "data": {
      "image/png": "[encoded data removed]",
      "text/plain": [
       "<Figure size 288x432 with 1 Axes>"
      ]
     },
     "metadata": {
      "needs_background": "light"
     },
     "output_type": "display_data"
    }
   ],
   "source": [
    "model_list= list(model_performances['Model'].unique())\n",
    "accuracy_list= list(model_performances['Accuracy'].sort_values(ascending=False))\n",
    "f,ax = plt.subplots(figsize = (4,6))\n",
    "sns.barplot(x=accuracy_list,y=model_list,color='green',alpha = 0.5)\n",
    "ax.set(xlabel='Test Accuracies', ylabel='Models')\n",
    "plt.show()\n"
   ]
  },
  {
   "cell_type": "code",
   "execution_count": 192,
   "metadata": {
    "_kg_hide-input": true
   },
   "outputs": [
    {
     "data": {
      "image/png": "[encoded data removed]",
      "text/plain": [
       "<Figure size 864x360 with 1 Axes>"
      ]
     },
     "metadata": {
      "needs_background": "light"
     },
     "output_type": "display_data"
    }
   ],
   "source": [
    "labels = ['SVM', 'K-NN','D-Tree']\n",
    "accuracy = [0.707455,0.773257,0.806050]\n",
    "validation = [0.707185, 0.707995,0.788762]\n",
    "\n",
    "x = np.arange(len(labels))\n",
    "width = 0.35\n",
    "\n",
    "fig, ax = plt.subplots(figsize=(12, 5))\n",
    "rects1 = ax.bar(x - width/2,accuracy, width, label='Accuracy')\n",
    "rects2 = ax.bar(x + width/2, validation, width, label='Validation')\n",
    "\n",
    "ax.set_xticks(x)\n",
    "ax.set_xticklabels(labels)\n",
    "ax.legend()\n",
    "\n",
    "def autolabel(rects):\n",
    "    for rect in rects:\n",
    "        height = rect.get_height()\n",
    "        ax.annotate('{}'.format(height),\n",
    "                    xy=(rect.get_x() + rect.get_width() / 2, height),\n",
    "                    xytext=(0, 2),\n",
    "                    textcoords=\"offset points\",\n",
    "                    ha='center', va='bottom')\n",
    "        \n",
    "autolabel(rects1)\n",
    "autolabel(rects2)\n",
    "fig.tight_layout()\n",
    "plt.show()"
   ]
  },
  {
   "cell_type": "code",
   "execution_count": 196,
   "metadata": {},
   "outputs": [],
   "source": [
    "spotify_song_data_train,spotify_song_data_test, spotify_song_info_train, spotify_song_info_test = train_test_split(spotify_song_data,spotify_song_info, train_size=0.7, random_state=369)"
   ]
  },
  {
   "cell_type": "markdown",
   "metadata": {},
   "source": [
    "<a id=\"13\"></a> <br>\n",
    "## Conclusion\n",
    "\n",
    "First we tried to predict popular songs using audio features then we added song name texts’ polarity to it and tried to improve our model. We also fitted the model using each importance as a threshold. Although accusticness is the most important of these features did not lead us to a strong result.  \n",
    "We had 18835 songs available. Decision Tree algorithms which mainly given better results when we don’t have so much data got the best result with svm. There were no strong linear correlations in our data, so linear methods did not fit well. In LR, We built the model using the gradient decent and this gave the best result in 200 iterations which was a moderate result. As in many popularity studies, we achieved the second best result with SVM. Adding Polarity to features value has almost not changed the result at all. So, our best model will be SVM if we have larger amount of data\n",
    "\n"
   ]
  }
 ],
 "metadata": {
  "kernelspec": {
   "display_name": "Python 3 (ipykernel)",
   "language": "python",
   "name": "python3"
  },
  "language_info": {
   "codemirror_mode": {
    "name": "ipython",
    "version": 3
   },
   "file_extension": ".py",
   "mimetype": "text/x-python",
   "name": "python",
   "nbconvert_exporter": "python",
   "pygments_lexer": "ipython3",
   "version": "3.9.12"
  }
 },
 "nbformat": 4,
 "nbformat_minor": 4
}
